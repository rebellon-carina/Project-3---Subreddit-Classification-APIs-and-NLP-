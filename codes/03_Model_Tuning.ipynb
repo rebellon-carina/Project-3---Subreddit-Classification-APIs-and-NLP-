{
 "cells": [
  {
   "cell_type": "markdown",
   "id": "dd316b86",
   "metadata": {},
   "source": [
    "# Building, Tuning and Selection of  Models\n",
    "\n",
    "\n",
    "## Business problem:\n",
    "***Can we create a model that can classify posts from two different subreddits based on their title?***\n",
    "\n",
    "## What we have done so far?\n",
    "- Cleaned up our feature which is title to 'preproc_title' (using tokenizer and stemmer)\n",
    "- created is_nutrition, where 1 means posted under r/Nutrition, and 0 as posted from r/Keto\n",
    "\n",
    "***is_Nutrition = 1 *** is our positive case\n",
    "\n",
    "## What are the next steps?\n",
    "\n",
    "\n",
    "Iterate on different classification models and tune the hyperparameters based on the following steps:\n",
    "\n",
    "1. Define independent(X) and dependent(y)  variable.\n",
    "2. Split our data for training and testing.\n",
    "3. Transform the feature(X) using vectorizer\n",
    "4. Instantiate the model (Pipeline) and tune the model using GridSearch, with the defined hyperparameters  \n",
    "5. Fit the model\n",
    "6. Evaluate the model (Accuracy, Sensitivity, Precision and F1-Score)\n",
    "\n",
    "Finally, we will review some metrics to help us decide which model is the \"best\".  We will try to cover most models learned so far: *Logistic Regression, Decision Tree, Bagging, Random Forest, Boosting (Gradient Boosting, ADA) and SVC*\n"
   ]
  },
  {
   "cell_type": "code",
   "execution_count": 1,
   "id": "4e865e2c",
   "metadata": {},
   "outputs": [],
   "source": [
    "#import our packages here\n",
    "import pandas as pd\n",
    "import matplotlib.pyplot as plt\n",
    "import seaborn as sns\n",
    "import numpy as np\n",
    "from datetime import datetime\n",
    "\n",
    "\n",
    "from sklearn.model_selection import train_test_split, GridSearchCV, cross_val_score, StratifiedKFold\n",
    "from sklearn.pipeline import Pipeline\n",
    "from sklearn.metrics import confusion_matrix, plot_roc_curve\n",
    "\n",
    "#not used, we used manual calculation\n",
    "#plot_confusion_matrix, accuracy_score, precision_score, recall_score, f1_score\n",
    "\n",
    "from sklearn.linear_model import LogisticRegression\n",
    "\n",
    "\n",
    "#cv, tfidf\n",
    "from sklearn.feature_extraction.text import CountVectorizer, TfidfVectorizer\n",
    "\n",
    "\n",
    "#decision tree\n",
    "from sklearn.tree import DecisionTreeClassifier\n",
    "\n",
    "\n",
    "#bagging\n",
    "from sklearn.ensemble import BaggingClassifier\n",
    "\n",
    "#random forest\n",
    "from sklearn.ensemble import RandomForestClassifier\n",
    "\n",
    "\n",
    "#boosting\n",
    "from sklearn.ensemble import AdaBoostClassifier, GradientBoostingClassifier, VotingClassifier\n",
    "\n",
    "#svm\n",
    "from sklearn.svm import LinearSVC, SVC\n",
    "\n",
    "#set our width to 500, since title are a bit long\n",
    "pd.options.display.max_colwidth = 500"
   ]
  },
  {
   "cell_type": "code",
   "execution_count": 2,
   "id": "76673b56",
   "metadata": {},
   "outputs": [],
   "source": [
    "#do not show warnings\n",
    "import warnings\n",
    "warnings.filterwarnings('ignore')"
   ]
  },
  {
   "cell_type": "markdown",
   "id": "14b34a0c",
   "metadata": {},
   "source": [
    "### Load the preprocessed and combined dataset"
   ]
  },
  {
   "cell_type": "code",
   "execution_count": 3,
   "id": "16db6433",
   "metadata": {},
   "outputs": [],
   "source": [
    "#load the data for both datasets\n",
    "df_subr = pd.read_csv(\"../datasets/combined_subr.csv\")"
   ]
  },
  {
   "cell_type": "code",
   "execution_count": 4,
   "id": "09e73614",
   "metadata": {},
   "outputs": [
    {
     "name": "stdout",
     "output_type": "stream",
     "text": [
      "Keto & Nutrition (3834, 17)\n"
     ]
    }
   ],
   "source": [
    "#check the shape of the datasets\n",
    "print(\"Keto & Nutrition\", df_subr.shape)"
   ]
  },
  {
   "cell_type": "code",
   "execution_count": 5,
   "id": "f0063680",
   "metadata": {},
   "outputs": [
    {
     "name": "stdout",
     "output_type": "stream",
     "text": [
      "0\n"
     ]
    }
   ],
   "source": [
    "#check for null values\n",
    "print(df_subr.isnull().sum().sum())\n"
   ]
  },
  {
   "cell_type": "markdown",
   "id": "5a5cb3f4",
   "metadata": {},
   "source": [
    "### Baseline Model \n",
    "\n",
    "Our baseline model is 50%, it means that without any models, if we assign all post to Nutrition (1 as positive case), we then have  50% probability of being accurate."
   ]
  },
  {
   "cell_type": "code",
   "execution_count": 6,
   "id": "5d9bd2d5",
   "metadata": {},
   "outputs": [
    {
     "data": {
      "text/plain": [
       "1    1920\n",
       "0    1914\n",
       "Name: is_nutrition, dtype: int64"
      ]
     },
     "execution_count": 6,
     "metadata": {},
     "output_type": "execute_result"
    }
   ],
   "source": [
    "#distribution\n",
    "df_subr[\"is_nutrition\"].value_counts()"
   ]
  },
  {
   "cell_type": "code",
   "execution_count": 7,
   "id": "b075f276",
   "metadata": {},
   "outputs": [
    {
     "data": {
      "text/plain": [
       "1    0.500782\n",
       "0    0.499218\n",
       "Name: is_nutrition, dtype: float64"
      ]
     },
     "execution_count": 7,
     "metadata": {},
     "output_type": "execute_result"
    }
   ],
   "source": [
    "#baseline model\n",
    "df_subr[\"is_nutrition\"].value_counts(normalize=True)"
   ]
  },
  {
   "cell_type": "markdown",
   "id": "19a78bf3",
   "metadata": {},
   "source": [
    "### X and y, then Split"
   ]
  },
  {
   "cell_type": "code",
   "execution_count": 8,
   "id": "3e24ac22",
   "metadata": {},
   "outputs": [],
   "source": [
    "X = df_subr[\"preproc_title\"]\n",
    "y = df_subr[\"is_nutrition\"]"
   ]
  },
  {
   "cell_type": "code",
   "execution_count": 9,
   "id": "2ed099cb",
   "metadata": {},
   "outputs": [],
   "source": [
    "X_train, X_test, y_train, y_test = train_test_split(X,y, stratify=y, random_state=42)"
   ]
  },
  {
   "cell_type": "markdown",
   "id": "cb7d8026",
   "metadata": {},
   "source": [
    "### Defining pipeline and parametes"
   ]
  },
  {
   "cell_type": "code",
   "execution_count": 10,
   "id": "98b5a714",
   "metadata": {},
   "outputs": [],
   "source": [
    "#we will store all our data in a dictionary for easy storage and access\n",
    "#includes model pipeline, parameters, and results\n",
    "\n",
    "#initialize the dictionary\n",
    "models = {}\n",
    "\n",
    "#our model's main keys\n",
    "model_list = [\"CVEC\", \"TVEC\", \"DTREE\", \"BAG\", \"RF\", \"ADA\", \"GB\", \"VC\", \"SVC\"]\n",
    "\n",
    "\n",
    "for model in model_list:\n",
    "    models[model] = {}\n",
    "\n",
    "# ******PIPELINES****** #\n",
    "\n",
    "#Logistic Regression with CountVectorizer\n",
    "models[\"CVEC\"][\"pipe\"] = [\n",
    "    ('cvec', CountVectorizer()),\n",
    "    ('lr', LogisticRegression())]\n",
    "\n",
    "\n",
    "#Logistic Regression with TfidfVectorizer\n",
    "models[\"TVEC\"][\"pipe\"] = [\n",
    "    ('tvec', TfidfVectorizer()),\n",
    "    ('lr', LogisticRegression()) ]\n",
    "\n",
    "\n",
    "#DecisionTree\n",
    "models[\"DTREE\"][\"pipe\"] = [\n",
    "    ('cvec', CountVectorizer()),\n",
    "    ('dt', DecisionTreeClassifier()) ]\n",
    "\n",
    "#RandomForest\n",
    "models[\"BAG\"][\"pipe\"] = [\n",
    "    ('cvec', CountVectorizer()),\n",
    "    ('bag', BaggingClassifier(base_estimator=DecisionTreeClassifier())) ]\n",
    "\n",
    "#RandomForest\n",
    "models[\"RF\"][\"pipe\"] = [\n",
    "    ('cvec', CountVectorizer()),\n",
    "    ('rf', RandomForestClassifier()) ]\n",
    "\n",
    "#ADA\n",
    "models[\"ADA\"][\"pipe\"] = [\n",
    "    ('cvec', CountVectorizer()),\n",
    "    ('ada', AdaBoostClassifier(base_estimator=DecisionTreeClassifier())) ]\n",
    "\n",
    "#Gradient Boosting\n",
    "models[\"GB\"][\"pipe\"] = [\n",
    "    ('cvec', CountVectorizer()),\n",
    "    ('gb', GradientBoostingClassifier()) ]\n",
    "\n",
    "\n",
    "\n",
    "#SVM\n",
    "models[\"SVC\"][\"pipe\"] = [\n",
    "    ('cvec', CountVectorizer()),\n",
    "    ('svm', SVC() )]"
   ]
  },
  {
   "cell_type": "code",
   "execution_count": 11,
   "id": "67bf8fed",
   "metadata": {},
   "outputs": [],
   "source": [
    "def build_model(model, withGridSearch=False):\n",
    "    \n",
    "    '''build the model, use the pipeline and paratemer from the model dictionary\n",
    "    pass the model name as initialized in model_list{}\n",
    "    withGridSearch=False (will fit using the pipeline only)\n",
    "    withGridSearch=True (will use the GridSearch and hyperparameters)\n",
    "    '''\n",
    "    now = datetime.now()\n",
    "    current_time = now.strftime(\"%H:%M:%S\")\n",
    "    print(f\"Building Model.. {model}   Current Time = {current_time}\")\n",
    "\n",
    "    if withGridSearch:\n",
    "        gsearch = \"gridsearch\"\n",
    "    else:\n",
    "        gsearch = \"no_gridsearch\"\n",
    "        \n",
    "    models[model][gsearch] = {}\n",
    "    \n",
    "    pipeL = Pipeline(models[model][\"pipe\"])\n",
    "    \n",
    "    if withGridSearch:\n",
    "         gs = GridSearchCV(pipeL, models[model][\"params\"], cv=5)\n",
    "    else:\n",
    "        gs = pipeL\n",
    " \n",
    "    gs.fit(X_train, y_train)\n",
    "    \n",
    "    \n",
    "    #add information on best params and score\n",
    "    models[model][gsearch][\"train_score\"] = gs.score(X_train, y_train)\n",
    "    models[model][gsearch][\"test_score\"] = gs.score(X_test, y_test)\n",
    "    models[model][gsearch][\"model\"] = gs\n",
    "    \n",
    "    if withGridSearch:\n",
    "        models[model][gsearch][\"best_params_\"] = gs.best_params_\n",
    "    else:\n",
    "        models[model][gsearch][\"best_params_\"] = \"n/a\"\n",
    "\n",
    "    predictions = models[model][gsearch][\"model\"].predict(X_test)\n",
    "    tn, fp, fn, tp = confusion_matrix(y_test, predictions).ravel()\n",
    "    \n",
    "    #calculation if we use the package from the metrics, but it's no fun, right?\n",
    "    \n",
    "    #recall = recall_score(y_test, predictions)\n",
    "    #precision = precision_score(y_test, predictions)\n",
    "    #f1 = f1_score(y_test, predictions)\n",
    "    \n",
    "    #let's calculate by hand\n",
    "    sensitivity = tp / (tp + fn) \n",
    "    specificity = tn / (tn + fp)\n",
    "    precision =  tp / (tp + fp)\n",
    "    f1_score = 2 * ((precision * sensitivity) / (precision + sensitivity))\n",
    "    \n",
    "    \n",
    "    models[model][gsearch][\"sensitivity\"] = sensitivity\n",
    "    models[model][gsearch][\"specificity\"] = specificity\n",
    "    models[model][gsearch][\"precision\"] =  precision\n",
    "    models[model][gsearch][\"f1_score\"] = f1_score\n",
    "    \n",
    "    now = datetime.now()\n",
    "    current_time = now.strftime(\"%H:%M:%S\")\n",
    "    print(f\"Model Completion.. {model}   Current Time = {current_time}\")"
   ]
  },
  {
   "cell_type": "markdown",
   "id": "b61c9788",
   "metadata": {},
   "source": [
    "## Building and Tuning the MODELS"
   ]
  },
  {
   "cell_type": "markdown",
   "id": "6e628cfd",
   "metadata": {},
   "source": [
    "### CountVectorizer and Logistic Regression\n",
    "***CountVectorizer*** transform Title into a bag of words (in a simple term), or a vector on the basis of the frequency or count of each word that occurs in the entire Title (as a technical description)"
   ]
  },
  {
   "cell_type": "code",
   "execution_count": 12,
   "id": "b8f46727",
   "metadata": {},
   "outputs": [
    {
     "name": "stdout",
     "output_type": "stream",
     "text": [
      "Building Model.. CVEC   Current Time = 13:37:32\n",
      "Model Completion.. CVEC   Current Time = 13:37:33\n"
     ]
    },
    {
     "data": {
      "text/plain": [
       "{'train_score': 0.9485217391304348,\n",
       " 'test_score': 0.8143899895724713,\n",
       " 'model': Pipeline(steps=[('cvec', CountVectorizer()), ('lr', LogisticRegression())]),\n",
       " 'best_params_': 'n/a',\n",
       " 'sensitivity': 0.8416666666666667,\n",
       " 'specificity': 0.7870563674321504,\n",
       " 'precision': 0.7984189723320159,\n",
       " 'f1_score': 0.8194726166328601}"
      ]
     },
     "metadata": {},
     "output_type": "display_data"
    }
   ],
   "source": [
    "#build with default parameter\n",
    "\n",
    "build_model(\"CVEC\", withGridSearch=False)\n",
    "display(models[\"CVEC\"][\"no_gridsearch\"])"
   ]
  },
  {
   "cell_type": "markdown",
   "id": "29076908",
   "metadata": {},
   "source": [
    "#### Hyperparametes -- CountVectorizer (from sklearn)\n",
    "\n",
    "from sklearn:\n",
    "***max_df*** default=1.0\n",
    "When building the vocabulary ignore terms that have a document frequency strictly higher than the given threshold (corpus-specific stop words). \n",
    "If float, the parameter represents a proportion of documents, integer absolute counts. This parameter is ignored if vocabulary is not None.\n",
    "\n",
    "***min_df**  default=1\n",
    "When building the vocabulary ignore terms that have a document frequency strictly lower than the given threshold. This value is also called cut-off in the literature. If float, the parameter represents a proportion of documents, integer absolute counts. This parameter is ignored if vocabulary is not None.\n",
    "\n",
    "***max_features*** default=None\n",
    "If not None, build a vocabulary that only consider the top max_features ordered by term frequency across the corpus.\n",
    "\n"
   ]
  },
  {
   "cell_type": "code",
   "execution_count": 13,
   "id": "8698ba66",
   "metadata": {},
   "outputs": [
    {
     "name": "stdout",
     "output_type": "stream",
     "text": [
      "Building Model.. CVEC   Current Time = 13:37:33\n",
      "Model Completion.. CVEC   Current Time = 13:38:36\n"
     ]
    },
    {
     "data": {
      "text/plain": [
       "{'train_score': 0.9763478260869565,\n",
       " 'test_score': 0.8133472367049009,\n",
       " 'model': GridSearchCV(cv=5,\n",
       "              estimator=Pipeline(steps=[('cvec', CountVectorizer()),\n",
       "                                        ('lr', LogisticRegression())]),\n",
       "              param_grid={'cvec__max_df': [0.1, 0.2, 0.3],\n",
       "                          'cvec__max_features': [2000, 3000, 4000, 10000],\n",
       "                          'cvec__min_df': [1, 2, 3],\n",
       "                          'cvec__ngram_range': [(1, 1), (1, 2), (2, 2)],\n",
       "                          'cvec__stop_words': [None, 'english']}),\n",
       " 'best_params_': {'cvec__max_df': 0.2,\n",
       "  'cvec__max_features': 10000,\n",
       "  'cvec__min_df': 1,\n",
       "  'cvec__ngram_range': (1, 2),\n",
       "  'cvec__stop_words': 'english'},\n",
       " 'sensitivity': 0.8229166666666666,\n",
       " 'specificity': 0.8037578288100209,\n",
       " 'precision': 0.8077709611451943,\n",
       " 'f1_score': 0.8152734778121775}"
      ]
     },
     "metadata": {},
     "output_type": "display_data"
    }
   ],
   "source": [
    "#tuning with hyperparameters\n",
    "models[\"CVEC\"][\"params\"] = {\n",
    "    'cvec__stop_words':[None, \"english\"],\n",
    "    'cvec__max_features': [2000,3000,4000,10000],\n",
    "    'cvec__min_df': [1, 2,3,],\n",
    "    'cvec__ngram_range' : [(1,1), (1,2),(2,2)],\n",
    "    'cvec__max_df': [0.1, 0.2, 0.3],\n",
    "}\n",
    "\n",
    "build_model(\"CVEC\", True)\n",
    "display(models[\"CVEC\"][\"gridsearch\"])"
   ]
  },
  {
   "cell_type": "markdown",
   "id": "4fe056f4",
   "metadata": {},
   "source": [
    "*Looks like our model with default parameters is slighly better (and faster) than the GridSearch model* We also notice overfitting, as the train score is over 90% and test score is below 80%"
   ]
  },
  {
   "cell_type": "markdown",
   "id": "a48e9091",
   "metadata": {},
   "source": [
    "### TfidfVectorizer and Logistic Regression\n",
    "\n",
    "***TfidfVectorizer*** multiplies two metrics: (1) how many times a word appears in a document (2) the inverse document frequency of the word across a set of documents"
   ]
  },
  {
   "cell_type": "code",
   "execution_count": 14,
   "id": "57c5e3e7",
   "metadata": {},
   "outputs": [
    {
     "name": "stdout",
     "output_type": "stream",
     "text": [
      "Building Model.. TVEC   Current Time = 13:38:36\n",
      "Model Completion.. TVEC   Current Time = 13:38:36\n"
     ]
    },
    {
     "data": {
      "text/plain": [
       "{'train_score': 0.9144347826086957,\n",
       " 'test_score': 0.8112617309697602,\n",
       " 'model': Pipeline(steps=[('tvec', TfidfVectorizer()), ('lr', LogisticRegression())]),\n",
       " 'best_params_': 'n/a',\n",
       " 'sensitivity': 0.88125,\n",
       " 'specificity': 0.7411273486430062,\n",
       " 'precision': 0.773308957952468,\n",
       " 'f1_score': 0.8237585199610516}"
      ]
     },
     "metadata": {},
     "output_type": "display_data"
    }
   ],
   "source": [
    "#build with default parameter\n",
    "build_model(\"TVEC\", withGridSearch=False)\n",
    "display(models[\"TVEC\"][\"no_gridsearch\"])"
   ]
  },
  {
   "cell_type": "code",
   "execution_count": 15,
   "id": "e2c1f163",
   "metadata": {},
   "outputs": [
    {
     "data": {
      "text/plain": [
       "{'analyzer': 'word',\n",
       " 'binary': False,\n",
       " 'decode_error': 'strict',\n",
       " 'dtype': numpy.float64,\n",
       " 'encoding': 'utf-8',\n",
       " 'input': 'content',\n",
       " 'lowercase': True,\n",
       " 'max_df': 1.0,\n",
       " 'max_features': None,\n",
       " 'min_df': 1,\n",
       " 'ngram_range': (1, 1),\n",
       " 'norm': 'l2',\n",
       " 'preprocessor': None,\n",
       " 'smooth_idf': True,\n",
       " 'stop_words': None,\n",
       " 'strip_accents': None,\n",
       " 'sublinear_tf': False,\n",
       " 'token_pattern': '(?u)\\\\b\\\\w\\\\w+\\\\b',\n",
       " 'tokenizer': None,\n",
       " 'use_idf': True,\n",
       " 'vocabulary': None}"
      ]
     },
     "execution_count": 15,
     "metadata": {},
     "output_type": "execute_result"
    }
   ],
   "source": [
    "#check valid parameters that we can define\n",
    "tf = TfidfVectorizer()\n",
    "tf.get_params()"
   ]
  },
  {
   "cell_type": "code",
   "execution_count": 16,
   "id": "7161aa0a",
   "metadata": {},
   "outputs": [
    {
     "name": "stdout",
     "output_type": "stream",
     "text": [
      "Building Model.. TVEC   Current Time = 13:38:36\n",
      "Model Completion.. TVEC   Current Time = 13:39:03\n"
     ]
    },
    {
     "data": {
      "text/plain": [
       "{'train_score': 0.9217391304347826,\n",
       " 'test_score': 0.821689259645464,\n",
       " 'model': GridSearchCV(cv=5,\n",
       "              estimator=Pipeline(steps=[('tvec', TfidfVectorizer()),\n",
       "                                        ('lr', LogisticRegression())]),\n",
       "              param_grid={'tvec__max_df': [0.1, 0.2, 0.3],\n",
       "                          'tvec__max_features': [4000, 5000],\n",
       "                          'tvec__min_df': [1, 2, 3],\n",
       "                          'tvec__ngram_range': [(1, 1), (1, 2), (2, 2)],\n",
       "                          'tvec__stop_words': [None, 'english']}),\n",
       " 'best_params_': {'tvec__max_df': 0.2,\n",
       "  'tvec__max_features': 4000,\n",
       "  'tvec__min_df': 1,\n",
       "  'tvec__ngram_range': (1, 2),\n",
       "  'tvec__stop_words': None},\n",
       " 'sensitivity': 0.89375,\n",
       " 'specificity': 0.7494780793319415,\n",
       " 'precision': 0.7814207650273224,\n",
       " 'f1_score': 0.8338192419825072}"
      ]
     },
     "metadata": {},
     "output_type": "display_data"
    }
   ],
   "source": [
    "#tuning with hyperparameters, min_df, max_df is the same definition as CountVectorizer\n",
    "\n",
    "models[\"TVEC\"][\"params\"] =  {\n",
    "    \"tvec__max_features\" : [4000,5000],\n",
    "    \"tvec__ngram_range\" : [(1,1), (1,2),(2,2)],\n",
    "    \"tvec__stop_words\" : [None, \"english\"],\n",
    "    'tvec__min_df':[1,2, 3],\n",
    "    'tvec__max_df': [0.1, 0.2, 0.3],\n",
    "}\n",
    "\n",
    "\n",
    "build_model(\"TVEC\", True)\n",
    "display(models[\"TVEC\"][\"gridsearch\"])"
   ]
  },
  {
   "cell_type": "markdown",
   "id": "f16f69d8",
   "metadata": {},
   "source": [
    "*Tuning the ***TfidfVectorizer*** model is slightly better. The score is also higher than the ***CountVectorizer***.* There is also evidence of  overfitting for both models, as the train score is over 90% and test score is around 81-82%%"
   ]
  },
  {
   "cell_type": "markdown",
   "id": "4ff62618",
   "metadata": {},
   "source": [
    "### CountVectorizer and DecisionTree\n",
    "\n",
    "***DecisionTree*** The classification process is easy to visualize and understand. It uses a set of rules to make decisions. Just like a flowchart diagram with the terminal nodes representing classification or decisions. Starting with a dataset, you can measure the entropy to find a way to split the set until all the data belongs to the same class. \n",
    "\n",
    "*Note on Decision Tree: default parameters (as per sklearn documentation)*\n",
    "- The default values for the parameters controlling the size of the trees (e.g. max_depth, min_samples_leaf, etc.) lead to fully grown and unpruned trees which can potentially be very large on some data sets. To reduce memory consumption, the complexity and size of the trees should be controlled by setting those parameter values."
   ]
  },
  {
   "cell_type": "code",
   "execution_count": 17,
   "id": "dedbb548",
   "metadata": {},
   "outputs": [
    {
     "name": "stdout",
     "output_type": "stream",
     "text": [
      "Building Model.. DTREE   Current Time = 13:39:03\n",
      "Model Completion.. DTREE   Current Time = 13:39:03\n"
     ]
    },
    {
     "data": {
      "text/plain": [
       "{'train_score': 0.9982608695652174,\n",
       " 'test_score': 0.7591240875912408,\n",
       " 'model': Pipeline(steps=[('cvec', CountVectorizer()), ('dt', DecisionTreeClassifier())]),\n",
       " 'best_params_': 'n/a',\n",
       " 'sensitivity': 0.7375,\n",
       " 'specificity': 0.7807933194154488,\n",
       " 'precision': 0.7712418300653595,\n",
       " 'f1_score': 0.7539936102236422}"
      ]
     },
     "metadata": {},
     "output_type": "display_data"
    }
   ],
   "source": [
    "#build with default parameter\n",
    "\n",
    "build_model(\"DTREE\", withGridSearch=False)\n",
    "display(models[\"DTREE\"][\"no_gridsearch\"])"
   ]
  },
  {
   "cell_type": "markdown",
   "id": "f9ba73a1",
   "metadata": {},
   "source": [
    "#### Hyperparameters - DecisionTreeClassifier (from sklearn)\n",
    "\n",
    "***max_depth***, default=None\n",
    "The maximum depth of the tree. If None, then nodes are expanded until all leaves are pure or until all leaves contain less than min_samples_split samples.\n",
    "\n",
    "***min_samples_split***, default=2\n",
    "The minimum number of samples required to split an internal node:\n",
    "\n",
    "\n",
    "***min_samples_leaf*** , default=1\n",
    "The minimum number of samples required to be at a leaf node. A split point at any depth will only be considered if it leaves at least min_samples_leaf training samples in each of the left and right branches. This may have the effect of smoothing the model, especially in regression.\n",
    "\n",
    "***ccp_alpha***, default=0.0\n",
    "Complexity parameter used for Minimal Cost-Complexity Pruning. The subtree with the largest cost complexity that is smaller than ccp_alpha will be chosen. By default, no pruning is performed. "
   ]
  },
  {
   "cell_type": "code",
   "execution_count": 18,
   "id": "bfede27b",
   "metadata": {},
   "outputs": [
    {
     "name": "stdout",
     "output_type": "stream",
     "text": [
      "Building Model.. DTREE   Current Time = 13:39:03\n",
      "Model Completion.. DTREE   Current Time = 13:39:30\n"
     ]
    },
    {
     "data": {
      "text/plain": [
       "{'train_score': 0.8681739130434782,\n",
       " 'test_score': 0.8070907194994786,\n",
       " 'model': GridSearchCV(cv=5,\n",
       "              estimator=Pipeline(steps=[('cvec', CountVectorizer()),\n",
       "                                        ('dt', DecisionTreeClassifier())]),\n",
       "              param_grid={'cvec__max_df': [0.2], 'cvec__max_features': [10000],\n",
       "                          'cvec__min_df': [1], 'cvec__ngram_range': [(1, 2)],\n",
       "                          'cvec__stop_words': ['english'],\n",
       "                          'dt__ccp_alpha': [0.01, 0],\n",
       "                          'dt__max_depth': [100, 125, 150],\n",
       "                          'dt__min_samples_leaf': [2, 3, 4],\n",
       "                          'dt__min_samples_split': [25, 50, 100],\n",
       "                          'dt__random_state': [42]}),\n",
       " 'best_params_': {'cvec__max_df': 0.2,\n",
       "  'cvec__max_features': 10000,\n",
       "  'cvec__min_df': 1,\n",
       "  'cvec__ngram_range': (1, 2),\n",
       "  'cvec__stop_words': 'english',\n",
       "  'dt__ccp_alpha': 0,\n",
       "  'dt__max_depth': 150,\n",
       "  'dt__min_samples_leaf': 2,\n",
       "  'dt__min_samples_split': 100,\n",
       "  'dt__random_state': 42},\n",
       " 'sensitivity': 0.78125,\n",
       " 'specificity': 0.8329853862212944,\n",
       " 'precision': 0.8241758241758241,\n",
       " 'f1_score': 0.8021390374331551}"
      ]
     },
     "metadata": {},
     "output_type": "display_data"
    }
   ],
   "source": [
    "#tuning with hyperparameters    \n",
    "models[\"DTREE\"][\"params\"]  = {\n",
    "    #cvec__ parameters here comes from the best_params_ from the GridSearch\n",
    "    'cvec__max_df': [0.2],\n",
    "    'cvec__max_features': [10000],\n",
    "    'cvec__min_df': [1],\n",
    "    'cvec__ngram_range': [(1, 2)],\n",
    "    'cvec__stop_words': ['english'],\n",
    "    #DecisionTree parameter\n",
    "    'dt__random_state':[42],\n",
    "    'dt__max_depth':[100, 125, 150], \n",
    "    'dt__min_samples_split': [25,50,100],\n",
    "    'dt__min_samples_leaf': [2, 3,4],\n",
    "    'dt__ccp_alpha' : [0.01, 0]\n",
    "}\n",
    "build_model(\"DTREE\", True)\n",
    "display(models[\"DTREE\"][\"gridsearch\"])"
   ]
  },
  {
   "cell_type": "markdown",
   "id": "dec8ef99",
   "metadata": {},
   "source": [
    "*GridSearch model is not overfitting as much as the model with default parameter and has higher score as well."
   ]
  },
  {
   "cell_type": "markdown",
   "id": "9b16294a",
   "metadata": {},
   "source": [
    "### CountVectorizer and BaggingClassifier\n",
    "***BaggingClassifier***  is a bootstrap aggregating.\n",
    "***Bootstrapping*** means random resampling with replacement. \n",
    "Bagging (bootstrap aggregating) mitigates the overfitting problem by exposing different trees to different sub-samples of the training set.\n"
   ]
  },
  {
   "cell_type": "code",
   "execution_count": 19,
   "id": "13f4f4f6",
   "metadata": {},
   "outputs": [
    {
     "name": "stdout",
     "output_type": "stream",
     "text": [
      "Building Model.. BAG   Current Time = 13:39:30\n",
      "Model Completion.. BAG   Current Time = 13:39:30\n"
     ]
    },
    {
     "data": {
      "text/plain": [
       "{'train_score': 0.9791304347826087,\n",
       " 'test_score': 0.7851929092805006,\n",
       " 'model': Pipeline(steps=[('cvec', CountVectorizer()),\n",
       "                 ('bag',\n",
       "                  BaggingClassifier(base_estimator=DecisionTreeClassifier()))]),\n",
       " 'best_params_': 'n/a',\n",
       " 'sensitivity': 0.7729166666666667,\n",
       " 'specificity': 0.7974947807933194,\n",
       " 'precision': 0.7927350427350427,\n",
       " 'f1_score': 0.7827004219409283}"
      ]
     },
     "metadata": {},
     "output_type": "display_data"
    }
   ],
   "source": [
    "#build with default parameter\n",
    "build_model(\"BAG\", withGridSearch=False)\n",
    "display(models[\"BAG\"][\"no_gridsearch\"])"
   ]
  },
  {
   "cell_type": "code",
   "execution_count": 20,
   "id": "78f1c34d",
   "metadata": {},
   "outputs": [
    {
     "data": {
      "text/plain": [
       "dict_keys(['base_estimator', 'bootstrap', 'bootstrap_features', 'max_features', 'max_samples', 'n_estimators', 'n_jobs', 'oob_score', 'random_state', 'verbose', 'warm_start'])"
      ]
     },
     "execution_count": 20,
     "metadata": {},
     "output_type": "execute_result"
    }
   ],
   "source": [
    "#just checkign what are valid hyperparameters for BaggingClassifier\n",
    "bg = BaggingClassifier()\n",
    "bg.get_params().keys()"
   ]
  },
  {
   "cell_type": "markdown",
   "id": "c55bc6c1",
   "metadata": {},
   "source": [
    "#### Hyperparameters - BaggingClassfier (from sklearn)\n",
    "\n",
    "***n_estimators***, default=10\n",
    "The number of base estimators in the ensemble.\n",
    "\n",
    "***max_samples***, default=1.0\n",
    "The number of samples to draw from X to train each base estimator (with replacement by default)\n",
    "\n",
    "***max_features***, default=1.0\n",
    "The number of features to draw from X to train each base estimator ( without replacement by default, see bootstrap_features for more details).\n"
   ]
  },
  {
   "cell_type": "code",
   "execution_count": 21,
   "id": "a538fe83",
   "metadata": {},
   "outputs": [
    {
     "name": "stdout",
     "output_type": "stream",
     "text": [
      "Building Model.. BAG   Current Time = 13:39:31\n",
      "Model Completion.. BAG   Current Time = 13:41:54\n"
     ]
    },
    {
     "data": {
      "text/plain": [
       "{'train_score': 0.9885217391304347,\n",
       " 'test_score': 0.8237747653806048,\n",
       " 'model': GridSearchCV(cv=5,\n",
       "              estimator=Pipeline(steps=[('cvec', CountVectorizer()),\n",
       "                                        ('bag',\n",
       "                                         BaggingClassifier(base_estimator=DecisionTreeClassifier()))]),\n",
       "              param_grid={'bag__base_estimator': [DecisionTreeClassifier()],\n",
       "                          'bag__max_features': [1000, 2000],\n",
       "                          'bag__max_samples': [2000],\n",
       "                          'bag__n_estimators': [200, 300]}),\n",
       " 'best_params_': {'bag__base_estimator': DecisionTreeClassifier(),\n",
       "  'bag__max_features': 1000,\n",
       "  'bag__max_samples': 2000,\n",
       "  'bag__n_estimators': 200},\n",
       " 'sensitivity': 0.81875,\n",
       " 'specificity': 0.8288100208768268,\n",
       " 'precision': 0.8273684210526315,\n",
       " 'f1_score': 0.8230366492146597}"
      ]
     },
     "metadata": {},
     "output_type": "display_data"
    }
   ],
   "source": [
    "#tuning with hyperparameters\n",
    "\n",
    "models[\"BAG\"][\"params\"]  ={    \n",
    "    #**cvec__ parameters here comes from the best_params_ from the GridSearch, \n",
    "    #**however, the data is performing poorly so might as well use the default value\n",
    "    \n",
    "    #'cvec__max_df': [0.2],\n",
    "    #'cvec__max_features': [10000],\n",
    "    #'cvec__min_df': [1],\n",
    "    #'cvec__ngram_range': [(1, 2)],\n",
    "    #'cvec__stop_words': ['english'],\n",
    "    \n",
    "    #RandomForest parameter\n",
    "    #we cannot use random state since we need random data for bootstrapping\n",
    "    #'bag__random_state':[42],   \n",
    "    'bag__n_estimators' : [200,300],\n",
    "    'bag__max_features' : [1000,2000],\n",
    "    'bag__max_samples' : [2000],\n",
    "    'bag__base_estimator' : [DecisionTreeClassifier()]\n",
    "}\n",
    "    \n",
    "build_model(\"BAG\", True)\n",
    "display(models[\"BAG\"][\"gridsearch\"])\n",
    "\n"
   ]
  },
  {
   "cell_type": "markdown",
   "id": "ffe8a38d",
   "metadata": {},
   "source": [
    "*Both models are overfitting. The tuned model has performed much better in all metrics compared to the model with default parameter, looks like defining our hyperparameters worked positively. However since we are bootstrapping, the score sometimes changes, and ranging from 81-83%"
   ]
  },
  {
   "cell_type": "markdown",
   "id": "0b494456",
   "metadata": {},
   "source": [
    "### CountVectorizer and RandomForest\n",
    "***RandomForest*** uses ensemble method – combine multiple decision trees to predict an outcome.. \n",
    "\n",
    "Random forests differ from bagging decision trees in only one way: they use a modified tree learning algorithm that selects, at each split in the learning process, a random subset of the features. This process is sometimes called the random subspace method.\n",
    "\n",
    "The reason for doing this is the correlation of the trees in an ordinary bootstrap sample: if one or a few features are very strong predictors for the response variable (target output), these features will be used in many/all of the bagged decision trees, causing them to become correlated. By selecting a random subset of features at each split, we counter this correlation between base trees, strengthening the overall model."
   ]
  },
  {
   "cell_type": "code",
   "execution_count": 22,
   "id": "e0a4ebf0",
   "metadata": {},
   "outputs": [
    {
     "name": "stdout",
     "output_type": "stream",
     "text": [
      "Building Model.. RF   Current Time = 13:41:54\n",
      "Model Completion.. RF   Current Time = 13:41:55\n"
     ]
    },
    {
     "data": {
      "text/plain": [
       "{'train_score': 0.9979130434782608,\n",
       " 'test_score': 0.7987486965589156,\n",
       " 'model': Pipeline(steps=[('cvec', CountVectorizer()), ('rf', RandomForestClassifier())]),\n",
       " 'best_params_': 'n/a',\n",
       " 'sensitivity': 0.79375,\n",
       " 'specificity': 0.8037578288100209,\n",
       " 'precision': 0.8021052631578948,\n",
       " 'f1_score': 0.7979057591623037}"
      ]
     },
     "metadata": {},
     "output_type": "display_data"
    }
   ],
   "source": [
    "#build with default parameter\n",
    "build_model(\"RF\", withGridSearch=False)\n",
    "display(models[\"RF\"][\"no_gridsearch\"])"
   ]
  },
  {
   "cell_type": "markdown",
   "id": "0747b126",
   "metadata": {},
   "source": [
    "#### Hyperparameters - RandomForestClassifier (from sklearn)\n",
    "\n",
    "***n_estimators***, default=100\n",
    "The number of trees in the forest.\n",
    "\n",
    "***max_depth***, default=None\n",
    "The maximum depth of the tree. If None, then nodes are expanded until all leaves are pure or until all leaves contain less than min_samples_split samples."
   ]
  },
  {
   "cell_type": "code",
   "execution_count": 23,
   "id": "dc8a8f4d",
   "metadata": {},
   "outputs": [
    {
     "name": "stdout",
     "output_type": "stream",
     "text": [
      "Building Model.. RF   Current Time = 13:41:55\n",
      "Model Completion.. RF   Current Time = 13:42:10\n"
     ]
    },
    {
     "data": {
      "text/plain": [
       "{'train_score': 0.9982608695652174,\n",
       " 'test_score': 0.808133472367049,\n",
       " 'model': GridSearchCV(cv=5,\n",
       "              estimator=Pipeline(steps=[('cvec', CountVectorizer()),\n",
       "                                        ('rf', RandomForestClassifier())]),\n",
       "              param_grid={'rf__max_depth': [None, 1, 2, 4, 6],\n",
       "                          'rf__n_estimators': [50, 75, 100]}),\n",
       " 'best_params_': {'rf__max_depth': None, 'rf__n_estimators': 50},\n",
       " 'sensitivity': 0.8041666666666667,\n",
       " 'specificity': 0.8121085594989561,\n",
       " 'precision': 0.8109243697478992,\n",
       " 'f1_score': 0.8075313807531381}"
      ]
     },
     "metadata": {},
     "output_type": "display_data"
    }
   ],
   "source": [
    "#tuning with hyperparameters\n",
    "\n",
    "models[\"RF\"][\"params\"]  ={\n",
    "\n",
    "    #RandomForest parameter\n",
    "    'rf__n_estimators' : [50, 75, 100],\n",
    "    'rf__max_depth' : [None, 1, 2,4,6]\n",
    "    \n",
    "}\n",
    "\n",
    "build_model(\"RF\", True)\n",
    "display(models[\"RF\"][\"gridsearch\"])\n",
    "\n"
   ]
  },
  {
   "cell_type": "markdown",
   "id": "dd4583c6",
   "metadata": {},
   "source": [
    "*Both RandomForest models were also showing overfitting, and we have noticed improvement on the score after tuning the hyperparameters.*\n",
    "\n",
    "*Bagging Classifier seems to get better score than RandomForest.*\n"
   ]
  },
  {
   "cell_type": "markdown",
   "id": "84b6186f",
   "metadata": {},
   "source": [
    "### CountVectorizer and ADA Boost\n",
    "***Boosting*** is a method of converting weak learners into strong learners.  Boosting takes a weak base learner and tries to make it a strong learner by retraining it on the misclassified samples.\n",
    "\n",
    "ADA Boost or Adaptive Boosting helps combine multiple weak classifier into a single strong classifier.\n",
    "It fits a sequence of weak learners on different weighted training data. It starts by predicting original data set and gives equal weight to each observation. If prediction is incorrect using the first learner, then it gives higher weight to observation which have been predicted incorrectly. Being an iterative process, it continues to add learner(s) until a limit is reached in the number of models or accuracy."
   ]
  },
  {
   "cell_type": "code",
   "execution_count": 24,
   "id": "4a1fb874",
   "metadata": {},
   "outputs": [
    {
     "name": "stdout",
     "output_type": "stream",
     "text": [
      "Building Model.. ADA   Current Time = 13:42:10\n",
      "Model Completion.. ADA   Current Time = 13:42:10\n"
     ]
    },
    {
     "data": {
      "text/plain": [
       "{'train_score': 0.9982608695652174,\n",
       " 'test_score': 0.7674661105318039,\n",
       " 'model': Pipeline(steps=[('cvec', CountVectorizer()),\n",
       "                 ('ada',\n",
       "                  AdaBoostClassifier(base_estimator=DecisionTreeClassifier()))]),\n",
       " 'best_params_': 'n/a',\n",
       " 'sensitivity': 0.8,\n",
       " 'specificity': 0.7348643006263048,\n",
       " 'precision': 0.7514677103718199,\n",
       " 'f1_score': 0.7749747729566094}"
      ]
     },
     "metadata": {},
     "output_type": "display_data"
    }
   ],
   "source": [
    "#build with default parameter\n",
    "build_model(\"ADA\", withGridSearch=False)\n",
    "display(models[\"ADA\"][\"no_gridsearch\"])"
   ]
  },
  {
   "cell_type": "markdown",
   "id": "566a6be0",
   "metadata": {},
   "source": [
    "#### Hyperparameters - AdaBoostClassifier (from sklearn)\n",
    "\n",
    "***base_estimator*** default=None\n",
    "The base estimator from which the boosted ensemble is built. Support for sample weighting is required, as well as proper classes_ and n_classes_ attributes. If None, then the base estimator is DecisionTreeClassifier initialized with max_depth=1.\n",
    "\n",
    "***n_estimators***, default=50\n",
    "The maximum number of estimators at which boosting is terminated. In case of perfect fit, the learning procedure is stopped early.\n",
    "\n",
    "***learning_rate***, default=1.0\n",
    "Weight applied to each classifier at each boosting iteration. A higher learning rate increases the contribution of each classifier. There is a trade-off between the learning_rate and n_estimators parameters.\n"
   ]
  },
  {
   "cell_type": "code",
   "execution_count": 25,
   "id": "d1984cf7",
   "metadata": {},
   "outputs": [
    {
     "name": "stdout",
     "output_type": "stream",
     "text": [
      "Building Model.. ADA   Current Time = 13:42:10\n",
      "Model Completion.. ADA   Current Time = 13:51:35\n"
     ]
    },
    {
     "data": {
      "text/plain": [
       "{'train_score': 0.8775652173913043,\n",
       " 'test_score': 0.8164754953076121,\n",
       " 'model': GridSearchCV(cv=5,\n",
       "              estimator=Pipeline(steps=[('cvec', CountVectorizer()),\n",
       "                                        ('ada',\n",
       "                                         AdaBoostClassifier(base_estimator=DecisionTreeClassifier()))]),\n",
       "              param_grid={'ada__base_estimator__max_depth': [1, 2],\n",
       "                          'ada__learning_rate': [0.8, 0.5, 0.2, 0.1],\n",
       "                          'ada__n_estimators': [500, 1000, 4000]}),\n",
       " 'best_params_': {'ada__base_estimator__max_depth': 1,\n",
       "  'ada__learning_rate': 0.1,\n",
       "  'ada__n_estimators': 1000},\n",
       " 'sensitivity': 0.8333333333333334,\n",
       " 'specificity': 0.7995824634655533,\n",
       " 'precision': 0.8064516129032258,\n",
       " 'f1_score': 0.819672131147541}"
      ]
     },
     "metadata": {},
     "output_type": "display_data"
    }
   ],
   "source": [
    "#tuning with hyperparameters\n",
    "models[\"ADA\"][\"params\"]  = {  \n",
    "\n",
    "    #ADA Boosting parameter\n",
    "    'ada__n_estimators' : [500,1000,4000],\n",
    "    'ada__learning_rate' : [0.8, 0.5, 0.2, 0.1],\n",
    "    'ada__base_estimator__max_depth' : [1, 2]\n",
    "}\n",
    "\n",
    "build_model(\"ADA\", True)\n",
    "display(models[\"ADA\"][\"gridsearch\"])"
   ]
  },
  {
   "cell_type": "markdown",
   "id": "d6489dbe",
   "metadata": {},
   "source": [
    "*The model using GridSearch is performing a much better than the default parameter. Overfitting is minimized in the model with hyperparameters*"
   ]
  },
  {
   "cell_type": "markdown",
   "id": "361b71b6",
   "metadata": {},
   "source": [
    "### CountVectorizer and Gradient Boost\n",
    "- In ***gradient boosting***, it trains many model sequentially. Each new model gradually minimizes the loss function (y = ax + b + e, e needs special attention as it is an error term) of the whole system using Gradient Descent method. The learning procedure consecutively fit new models to provide a more accurate estimate of the response variable."
   ]
  },
  {
   "cell_type": "code",
   "execution_count": 26,
   "id": "1eb1864e",
   "metadata": {},
   "outputs": [
    {
     "name": "stdout",
     "output_type": "stream",
     "text": [
      "Building Model.. GB   Current Time = 13:51:35\n",
      "Model Completion.. GB   Current Time = 13:51:36\n"
     ]
    },
    {
     "data": {
      "text/plain": [
       "{'train_score': 0.798608695652174,\n",
       " 'test_score': 0.7549530761209593,\n",
       " 'model': Pipeline(steps=[('cvec', CountVectorizer()),\n",
       "                 ('gb', GradientBoostingClassifier())]),\n",
       " 'best_params_': 'n/a',\n",
       " 'sensitivity': 0.9583333333333334,\n",
       " 'specificity': 0.5511482254697286,\n",
       " 'precision': 0.6814814814814815,\n",
       " 'f1_score': 0.7965367965367965}"
      ]
     },
     "metadata": {},
     "output_type": "display_data"
    }
   ],
   "source": [
    "#build with default parameter\n",
    "build_model(\"GB\", withGridSearch=False)\n",
    "display(models[\"GB\"][\"no_gridsearch\"])"
   ]
  },
  {
   "cell_type": "markdown",
   "id": "2cdbfc09",
   "metadata": {},
   "source": [
    "#### Hyperparameters - GradientBoostClassifier (from sklearn)\n",
    "\n",
    "\n",
    "***learning_rate***, default=0.1\n",
    "Learning rate shrinks the contribution of each tree by learning_rate. There is a trade-off between learning_rate and n_estimators.\n",
    "\n",
    "***n_estimators***, default=100\n",
    "The number of boosting stages to perform. Gradient boosting is fairly robust to over-fitting so a large number usually results in better performance.\n",
    "\n",
    "***max_depth***, default=3\n",
    "The maximum depth of the individual regression estimators. The maximum depth limits the number of nodes in the tree. Tune this parameter for best performance; the best value depends on the interaction of the input variables."
   ]
  },
  {
   "cell_type": "code",
   "execution_count": 27,
   "id": "99987fcd",
   "metadata": {},
   "outputs": [
    {
     "name": "stdout",
     "output_type": "stream",
     "text": [
      "Building Model.. GB   Current Time = 13:51:36\n",
      "Model Completion.. GB   Current Time = 13:57:19\n"
     ]
    },
    {
     "data": {
      "text/plain": [
       "{'train_score': 0.9846956521739131,\n",
       " 'test_score': 0.8164754953076121,\n",
       " 'model': GridSearchCV(cv=5,\n",
       "              estimator=Pipeline(steps=[('cvec', CountVectorizer()),\n",
       "                                        ('gb', GradientBoostingClassifier())]),\n",
       "              param_grid={'gb__learning_rate': [0.8, 0.1, 0.12],\n",
       "                          'gb__max_depth': [4, 6, 8],\n",
       "                          'gb__n_estimators': [500, 600, 800]}),\n",
       " 'best_params_': {'gb__learning_rate': 0.1,\n",
       "  'gb__max_depth': 6,\n",
       "  'gb__n_estimators': 600},\n",
       " 'sensitivity': 0.8541666666666666,\n",
       " 'specificity': 0.778705636743215,\n",
       " 'precision': 0.7945736434108527,\n",
       " 'f1_score': 0.823293172690763}"
      ]
     },
     "metadata": {},
     "output_type": "display_data"
    }
   ],
   "source": [
    "#tuning with hyperparameters\n",
    "\n",
    "models[\"GB\"][\"params\"]  = {\n",
    "    \"gb__max_depth\" : [4, 6,8],\n",
    "    \"gb__n_estimators\" : [500,600,800],\n",
    "    \"gb__learning_rate\" : [0.8, 0.10, 0.12]\n",
    "}\n",
    "\n",
    "\n",
    "build_model(\"GB\", True)\n",
    "display(models[\"GB\"][\"gridsearch\"])"
   ]
  },
  {
   "cell_type": "markdown",
   "id": "5bbbc1ff",
   "metadata": {},
   "source": [
    "*The model using GridSearch is performing much better than the default parameter. Overfitting is alsoo a problem in Gridsearch model."
   ]
  },
  {
   "cell_type": "markdown",
   "id": "4b7d18a4",
   "metadata": {},
   "source": [
    "### VotingClassifier\n",
    "A ***Voting Classifier*** also trains on an ensemble of numerous models and predicts an output based on their highest probability of chosen class as the output.\n",
    "\n",
    "It simply aggregates the findings of each classifier passed into Voting Classifier and predicts the output class based on the highest majority of voting. The idea is instead of creating separate dedicated models and finding the accuracy for each them, we create a single model which trains by these models and predicts output based on their combined majority of voting for each output class.\n",
    "\n",
    "Hard Voting: In hard voting, the predicted output class is a class with the highest majority of votes\n",
    "Soft Voting: In soft voting, the output class is the prediction based on the average of probability given to that class. "
   ]
  },
  {
   "cell_type": "code",
   "execution_count": 28,
   "id": "587b23a0",
   "metadata": {},
   "outputs": [],
   "source": [
    "cvec = CountVectorizer()\n",
    "X_train_cvec = cvec.fit_transform(X_train)\n",
    "X_test_cvec = cvec.transform(X_test)\n",
    "vote = VotingClassifier([\n",
    "    (\"tree\", DecisionTreeClassifier()),\n",
    "    ('ada', AdaBoostClassifier(learning_rate= 0.1, n_estimators= 1000)),\n",
    "    ('gb', GradientBoostingClassifier(learning_rate =  0.12, max_depth = 6,n_estimators = 500))\n",
    "])\n"
   ]
  },
  {
   "cell_type": "code",
   "execution_count": 29,
   "id": "f6ee281d",
   "metadata": {},
   "outputs": [
    {
     "data": {
      "text/plain": [
       "VotingClassifier(estimators=[('tree', DecisionTreeClassifier()),\n",
       "                             ('ada',\n",
       "                              AdaBoostClassifier(learning_rate=0.1,\n",
       "                                                 n_estimators=1000)),\n",
       "                             ('gb',\n",
       "                              GradientBoostingClassifier(learning_rate=0.12,\n",
       "                                                         max_depth=6,\n",
       "                                                         n_estimators=500))])"
      ]
     },
     "execution_count": 29,
     "metadata": {},
     "output_type": "execute_result"
    }
   ],
   "source": [
    "vote.fit(X_train_cvec, y_train)"
   ]
  },
  {
   "cell_type": "code",
   "execution_count": 30,
   "id": "d14e8ffb",
   "metadata": {},
   "outputs": [],
   "source": [
    "#models[\"VC\"][\"best_params_\"] = vote.best_params_\n",
    "\n",
    "models[\"VC\"][\"no_gridsearch\"] = {}\n",
    "models[\"VC\"][\"no_gridsearch\"][\"train_score\"] = vote.score(X_train_cvec, y_train)\n",
    "models[\"VC\"][\"no_gridsearch\"][\"test_score\"] = vote.score(X_test_cvec, y_test)\n",
    "models[\"VC\"][\"no_gridsearch\"][\"model\"] = vote\n",
    "\n",
    "predictions = models[\"VC\"][\"no_gridsearch\"][\"model\"].predict(X_test_cvec)\n",
    "tn, fp, fn, tp = confusion_matrix(y_test, predictions).ravel()\n",
    "sensitivity = tp / (tp + fn) \n",
    "specificity = tn / (tn + fp)\n",
    "precision =  tp / (tp + fp)\n",
    "f1_score = 2 * ((precision * sensitivity) / (precision + sensitivity))\n",
    "    \n",
    "    \n",
    "models[\"VC\"][\"no_gridsearch\"][\"sensitivity\"] = sensitivity\n",
    "models[\"VC\"][\"no_gridsearch\"][\"specificity\"] = specificity\n",
    "models[\"VC\"][\"no_gridsearch\"][\"precision\"] =  precision\n",
    "models[\"VC\"][\"no_gridsearch\"][\"f1_score\"] = f1_score\n",
    "    "
   ]
  },
  {
   "cell_type": "code",
   "execution_count": 31,
   "id": "1ab1c609",
   "metadata": {},
   "outputs": [
    {
     "data": {
      "text/plain": [
       "{'train_score': 0.9860869565217392,\n",
       " 'test_score': 0.8206465067778936,\n",
       " 'model': VotingClassifier(estimators=[('tree', DecisionTreeClassifier()),\n",
       "                              ('ada',\n",
       "                               AdaBoostClassifier(learning_rate=0.1,\n",
       "                                                  n_estimators=1000)),\n",
       "                              ('gb',\n",
       "                               GradientBoostingClassifier(learning_rate=0.12,\n",
       "                                                          max_depth=6,\n",
       "                                                          n_estimators=500))]),\n",
       " 'sensitivity': 0.8479166666666667,\n",
       " 'specificity': 0.7933194154488518,\n",
       " 'precision': 0.8043478260869565,\n",
       " 'f1_score': 0.8255578093306287}"
      ]
     },
     "metadata": {},
     "output_type": "display_data"
    }
   ],
   "source": [
    "display(models[\"VC\"][\"no_gridsearch\"])"
   ]
  },
  {
   "cell_type": "markdown",
   "id": "2132014b",
   "metadata": {},
   "source": [
    "If we use voting = \"soft\", we can use the .proba to check the probability, but the default parameter \"hard\" performs better"
   ]
  },
  {
   "cell_type": "markdown",
   "id": "6b807fd3",
   "metadata": {},
   "source": [
    "### CountVectorizer and SVM\n",
    "***Support Vector Machine*** algorithm separates data points using a hyperplane with the highest amount of margin.The algorithm determines the best decision boundary between vectors that belong to a given category."
   ]
  },
  {
   "cell_type": "code",
   "execution_count": 32,
   "id": "348c5e4a",
   "metadata": {},
   "outputs": [
    {
     "name": "stdout",
     "output_type": "stream",
     "text": [
      "Building Model.. SVC   Current Time = 13:57:25\n",
      "Model Completion.. SVC   Current Time = 13:57:26\n"
     ]
    },
    {
     "data": {
      "text/plain": [
       "{'train_score': 0.9540869565217391,\n",
       " 'test_score': 0.7987486965589156,\n",
       " 'model': Pipeline(steps=[('cvec', CountVectorizer()), ('svm', SVC())]),\n",
       " 'best_params_': 'n/a',\n",
       " 'sensitivity': 0.84375,\n",
       " 'specificity': 0.7536534446764092,\n",
       " 'precision': 0.7743785850860421,\n",
       " 'f1_score': 0.8075772681954138}"
      ]
     },
     "metadata": {},
     "output_type": "display_data"
    }
   ],
   "source": [
    "#build with default parameter\n",
    "build_model(\"SVC\", withGridSearch=False)\n",
    "display(models[\"SVC\"][\"no_gridsearch\"])"
   ]
  },
  {
   "cell_type": "code",
   "execution_count": 33,
   "id": "811f4f39",
   "metadata": {},
   "outputs": [
    {
     "data": {
      "text/plain": [
       "dict_keys(['C', 'break_ties', 'cache_size', 'class_weight', 'coef0', 'decision_function_shape', 'degree', 'gamma', 'kernel', 'max_iter', 'probability', 'random_state', 'shrinking', 'tol', 'verbose'])"
      ]
     },
     "execution_count": 33,
     "metadata": {},
     "output_type": "execute_result"
    }
   ],
   "source": [
    "sv = SVC()\n",
    "sv.get_params().keys()"
   ]
  },
  {
   "cell_type": "markdown",
   "id": "6bb840ff",
   "metadata": {},
   "source": [
    "#### Hyperparameters - AdaBoostClassifier (from sklearn)\n",
    "\n",
    "***C***, default=1.0\n",
    "Regularization parameter. The strength of the regularization is inversely proportional to C. Must be strictly positive. The penalty is a squared l2 penalty.\n",
    "\n",
    "***kernel*** {‘linear’, ‘poly’, ‘rbf’, ‘sigmoid’, ‘precomputed’} or callable, default=’rbf’\n",
    "Specifies the kernel type to be used in the algorithm. If none is given, ‘rbf’ will be used. If a callable is given it is used to pre-compute the kernel matrix from data matrices; that matrix should be an array of shape (n_samples, n_samples).\n",
    "\n",
    "***max_iter***, default=-1\n",
    "Hard limit on iterations within solver, or -1 for no limit.\n",
    "\n",
    "***gamma*** {‘scale’, ‘auto’} or float, default=’scale’\n",
    "Kernel coefficient for ‘rbf’, ‘poly’ and ‘sigmoid’.\n",
    "\n"
   ]
  },
  {
   "cell_type": "code",
   "execution_count": 34,
   "id": "8290cadb",
   "metadata": {},
   "outputs": [
    {
     "name": "stdout",
     "output_type": "stream",
     "text": [
      "Building Model.. SVC   Current Time = 13:57:26\n",
      "Model Completion.. SVC   Current Time = 13:58:26\n"
     ]
    },
    {
     "data": {
      "text/plain": [
       "{'train_score': 0.9019130434782608,\n",
       " 'test_score': 0.8091762252346194,\n",
       " 'model': GridSearchCV(cv=5,\n",
       "              estimator=Pipeline(steps=[('cvec', CountVectorizer()),\n",
       "                                        ('svm', SVC())]),\n",
       "              param_grid={'svm__C': [0.0001, 0.1, 0.2, 0.3],\n",
       "                          'svm__gamma': [0.1, 0.3],\n",
       "                          'svm__kernel': ['linear', 'rbf'],\n",
       "                          'svm__max_iter': [-1, 10000]}),\n",
       " 'best_params_': {'svm__C': 0.1,\n",
       "  'svm__gamma': 0.1,\n",
       "  'svm__kernel': 'linear',\n",
       "  'svm__max_iter': -1},\n",
       " 'sensitivity': 0.8708333333333333,\n",
       " 'specificity': 0.7473903966597077,\n",
       " 'precision': 0.7755102040816326,\n",
       " 'f1_score': 0.8204121687929342}"
      ]
     },
     "metadata": {},
     "output_type": "display_data"
    }
   ],
   "source": [
    "#tuning with hyperparameters\n",
    "#C is a penalty parameter, which represents misclassification or error term. \n",
    "#Gamma is a parameter that influences the calculation of plausible line of separation for SVM. \n",
    "#When gamma is higher, nearby points will have high influence in the calculation of the decision boundary. \n",
    "#A low gamma means far away points also be considered when calculating the decision boundary.\n",
    "#Kernel -?\n",
    "\n",
    "models[\"SVC\"][\"params\"]  = {  \n",
    "    #SVC Boosting parameter\n",
    "    'svm__max_iter' : [-1, 10_000],\n",
    "    'svm__C' : [0.0001, 0.1, 0.2, 0.3],\n",
    "    'svm__gamma':[0.1, 0.3], \n",
    "    'svm__kernel':['linear','rbf'],\n",
    "    \n",
    "}\n",
    "\n",
    "build_model(\"SVC\", True)\n",
    "display(models[\"SVC\"][\"gridsearch\"])"
   ]
  },
  {
   "cell_type": "markdown",
   "id": "6f7dacc1",
   "metadata": {},
   "source": [
    "## METRICS"
   ]
  },
  {
   "cell_type": "markdown",
   "id": "735bdf76",
   "metadata": {},
   "source": [
    "### Score a.k.a Accuracy\n",
    "\n",
    "***Score or Accuracy means the count the number of matches (prediction vs actual) divided by by the number of samples.***\n",
    "\n",
    "*In this metrics, our top  model is:*\n",
    "- TVEC or TFIDF Vectorizer Test Score: 0.8216  (82% are predicted accurately on the test data)\n",
    "\n",
    "\n",
    "*BAG or BaggingClassifier is a bit inconsistent, sometimes it is slightly below or above TVEC*\n"
   ]
  },
  {
   "cell_type": "code",
   "execution_count": 35,
   "id": "29d464b6",
   "metadata": {},
   "outputs": [
    {
     "name": "stdout",
     "output_type": "stream",
     "text": [
      "CVEC Test Score: 0.8133472367049009\n",
      "TVEC Test Score: 0.821689259645464\n",
      "DTREE Test Score: 0.8070907194994786\n",
      "BAG Test Score: 0.8237747653806048\n",
      "RF Test Score: 0.808133472367049\n",
      "ADA Test Score: 0.8164754953076121\n",
      "GB Test Score: 0.8164754953076121\n",
      "VC Test Score: 0.8206465067778936\n",
      "SVC Test Score: 0.8091762252346194\n"
     ]
    }
   ],
   "source": [
    "#Models by Score\n",
    "for model in models:\n",
    "    if model != 'VC':\n",
    "        print(f\"{model} Test Score: {models[model]['gridsearch']['test_score']}\")\n",
    "    else:\n",
    "        print(f\"{model} Test Score: {models[model]['no_gridsearch']['test_score']}\")"
   ]
  },
  {
   "cell_type": "markdown",
   "id": "72e6af8e",
   "metadata": {},
   "source": [
    "### Sensitivity\n",
    "\n",
    "***Sensitivity*** is a measure of the proportion of actual positive cases that got predicted as positive (or true positive). Sensitivity is also termed as Recall.\n",
    "\n",
    "In this project, our ***True Positive*** are those Nutrition that are accurately predicted as Nutrition.  ***False Negative*** means those Nutrition that are predicted as Keto.\n",
    "\n",
    "Sensitivity = (True Positive)/(True Positive + False Negative)\n",
    "\n",
    "The higher the Sensitivity Rate means we have captured more on our positive class (Nutrition)\n",
    "\n",
    "*In this metric, our best model is:*\n",
    "- TVEC Sensitivity: 0.8937   (89% of Nutrition are predicted accurately)\n"
   ]
  },
  {
   "cell_type": "code",
   "execution_count": 36,
   "id": "52f0f1d2",
   "metadata": {},
   "outputs": [
    {
     "name": "stdout",
     "output_type": "stream",
     "text": [
      "CVEC Sensitivity Rate: 0.8229166666666666\n",
      "TVEC Sensitivity Rate: 0.89375\n",
      "DTREE Sensitivity Rate: 0.78125\n",
      "BAG Sensitivity Rate: 0.81875\n",
      "RF Sensitivity Rate: 0.8041666666666667\n",
      "ADA Sensitivity Rate: 0.8333333333333334\n",
      "GB Sensitivity Rate: 0.8541666666666666\n",
      "VC Sensitivity Rate: 0.8479166666666667\n",
      "SVC Sensitivity Rate: 0.8708333333333333\n"
     ]
    }
   ],
   "source": [
    "#Models by sensitivity\n",
    "for model in models:\n",
    "    if model != 'VC':\n",
    "        print(f\"{model} Sensitivity Rate: {models[model]['gridsearch']['sensitivity']}\")\n",
    "    else:\n",
    "        print(f\"{model} Sensitivity Rate: {models[model]['no_gridsearch']['sensitivity']}\")"
   ]
  },
  {
   "cell_type": "markdown",
   "id": "4b1ee425",
   "metadata": {},
   "source": [
    "### Specificity\n",
    "\n",
    "***Specificity*** is a measure of the proportion of actual negative cases that got predicted as negative (or true negative). \n",
    "\n",
    "In this project, our ***True Negative*** are those Keto titles that are accurately predicted as Keto. ***False Positive*** means those Keto that are predicted as Nutrition title.\n",
    "\n",
    "Specificity = (True Negative)/(True Negative + False Positive)\n",
    "\n",
    "The higher the Specificity Rate means we have captured more accurately on our negative class (Keto)\n",
    "\n",
    "*In this metric, our best models are:*\n",
    "- BAG Specificity Rate: 0.8230  (82% of Keto post are predicted accurately as Keto)\n"
   ]
  },
  {
   "cell_type": "code",
   "execution_count": 37,
   "id": "d67d4279",
   "metadata": {},
   "outputs": [
    {
     "name": "stdout",
     "output_type": "stream",
     "text": [
      "CVEC Specificity Rate: 0.8037578288100209\n",
      "TVEC Specificity Rate: 0.7494780793319415\n",
      "DTREE Specificity Rate: 0.8329853862212944\n",
      "BAG Specificity Rate: 0.8288100208768268\n",
      "RF Specificity Rate: 0.8121085594989561\n",
      "ADA Specificity Rate: 0.7995824634655533\n",
      "GB Specificity Rate: 0.778705636743215\n",
      "VC Specificity Rate: 0.7933194154488518\n",
      "SVC Specificity Rate: 0.7473903966597077\n"
     ]
    }
   ],
   "source": [
    "#Models by specificity\n",
    "for model in models:\n",
    "    if model != 'VC':\n",
    "        print(f\"{model} Specificity Rate: {models[model]['gridsearch']['specificity']}\")\n",
    "    else:\n",
    "        print(f\"{model} Specificity Rate: {models[model]['no_gridsearch']['specificity']}\")"
   ]
  },
  {
   "cell_type": "markdown",
   "id": "4e3272aa",
   "metadata": {},
   "source": [
    "### Precision\n",
    "\n",
    "***Precision***  evaluates the fraction of correctly classified instances or samples among the ones classified as positives.\n",
    "\n",
    "Precision is the number of true positive results divided by the number of all positive results, including those not identified correctly:\n",
    "Precision = TP/(TP + FP)\n",
    "\n",
    "*In this metric, our best models are:*\n",
    "- BAG Precision: 0.8283\n"
   ]
  },
  {
   "cell_type": "code",
   "execution_count": 38,
   "id": "292ded8e",
   "metadata": {},
   "outputs": [
    {
     "name": "stdout",
     "output_type": "stream",
     "text": [
      "CVEC Precision: 0.8077709611451943\n",
      "TVEC Precision: 0.7814207650273224\n",
      "DTREE Precision: 0.8241758241758241\n",
      "BAG Precision: 0.8273684210526315\n",
      "RF Precision: 0.8109243697478992\n",
      "ADA Precision: 0.8064516129032258\n",
      "GB Precision: 0.7945736434108527\n",
      "VC Precision: 0.8043478260869565\n",
      "SVC Precision: 0.7755102040816326\n"
     ]
    }
   ],
   "source": [
    "#Models by precision\n",
    "for model in models:\n",
    "    if model != 'VC':\n",
    "        print(f\"{model} Precision: {models[model]['gridsearch']['precision']}\")\n",
    "    else:\n",
    "        print(f\"{model} Precision: {models[model]['no_gridsearch']['precision']}\")"
   ]
  },
  {
   "cell_type": "markdown",
   "id": "bcc29bb9",
   "metadata": {},
   "source": [
    "### F1_Score\n",
    "\n",
    "***F-score or F1 Score*** is a measure of a prediction's accuracy. It is calculated from the precision and recall/sensitivity of the test.\n",
    "\n",
    "The F1 score is the harmonic mean of precision and recall.\n",
    "If you care about precision and recall roughly the same amount, F1 score is a great metric to use.\n",
    "\n",
    "F1_Score = 2 * ((precision * sensitivity) / (precision + sensitivity))\n",
    "\n",
    "\n",
    "*In this metric, our best model is:*\n",
    "- TVEC F1 Score: 0.8338"
   ]
  },
  {
   "cell_type": "code",
   "execution_count": 39,
   "id": "b13ba11a",
   "metadata": {},
   "outputs": [
    {
     "name": "stdout",
     "output_type": "stream",
     "text": [
      "CVEC F1 Score: 0.8152734778121775\n",
      "TVEC F1 Score: 0.8338192419825072\n",
      "DTREE F1 Score: 0.8021390374331551\n",
      "BAG F1 Score: 0.8230366492146597\n",
      "RF F1 Score: 0.8075313807531381\n",
      "ADA F1 Score: 0.819672131147541\n",
      "GB F1 Score: 0.823293172690763\n",
      "VC F1 Score: 0.8255578093306287\n",
      "SVC F1 Score: 0.8204121687929342\n"
     ]
    }
   ],
   "source": [
    "#Models by f1-score\n",
    "for model in models:\n",
    "    if model != 'VC':\n",
    "        print(f\"{model} F1 Score: {models[model]['gridsearch']['f1_score']}\")\n",
    "    else:\n",
    "        print(f\"{model} F1 Score: {models[model]['no_gridsearch']['f1_score']}\")"
   ]
  },
  {
   "cell_type": "markdown",
   "id": "af417365",
   "metadata": {},
   "source": [
    "### Overfitting Problem\n",
    "\n",
    "***Almost all models have overfitting problems, Train Score has  more than 10% of the Test Score***"
   ]
  },
  {
   "cell_type": "code",
   "execution_count": 41,
   "id": "d2bc882c",
   "metadata": {},
   "outputs": [],
   "source": [
    "\n",
    "overfit_list = []\n",
    "\n",
    "for model in models:\n",
    "    if model != 'VC':\n",
    "        dic = {\"model\": model,\n",
    "                          \"Score Diff\": models[model]['gridsearch']['train_score'] - models[model]['gridsearch']['test_score']\n",
    "                         }\n",
    "        overfit_list.append(dic)\n",
    "\n",
    "df_overfit = pd.DataFrame(overfit_list)"
   ]
  },
  {
   "cell_type": "code",
   "execution_count": 43,
   "id": "2fbe196b",
   "metadata": {},
   "outputs": [
    {
     "data": {
      "image/png": "[encoded data removed]",
      "text/plain": [
       "<Figure size 720x360 with 1 Axes>"
      ]
     },
     "metadata": {
      "needs_background": "light"
     },
     "output_type": "display_data"
    }
   ],
   "source": [
    "df_overfit = df_overfit.sort_values(by=\"Score Diff\")\n",
    "\n",
    "fig = plt.figure(figsize=(10,5))\n",
    "ax = fig.add_subplot(111)\n",
    "sns.barplot(data=df_overfit, y='model',x='Score Diff', ax=ax, orient = \"h\", palette=[\"blue\",\"blue\",\"blue\",\"blue\",\"gray\",\"gray\",\"gray\",\"gray\"]);\n",
    "\n",
    "plt.title(\"Classification Models by Score\", )\n",
    "#plt.xlim(0,0.4)\n",
    "ax.spines[\"top\"].set_visible(False)  \n",
    "ax.spines[\"right\"].set_visible(False) \n"
   ]
  },
  {
   "cell_type": "markdown",
   "id": "8936927c",
   "metadata": {},
   "source": [
    "*** DTREE, ADA, SVC, TVEC has below 10% difference from their Train Score, while the rest have more than 15%***"
   ]
  },
  {
   "cell_type": "markdown",
   "id": "ba1e63df",
   "metadata": {},
   "source": [
    "\n",
    "# How do we choose our model then? What metrics should we consider to make the decision?\n"
   ]
  },
  {
   "cell_type": "code",
   "execution_count": 44,
   "id": "ecd7f434",
   "metadata": {},
   "outputs": [
    {
     "data": {
      "text/html": [
       "<div>\n",
       "<style scoped>\n",
       "    .dataframe tbody tr th:only-of-type {\n",
       "        vertical-align: middle;\n",
       "    }\n",
       "\n",
       "    .dataframe tbody tr th {\n",
       "        vertical-align: top;\n",
       "    }\n",
       "\n",
       "    .dataframe thead th {\n",
       "        text-align: right;\n",
       "    }\n",
       "</style>\n",
       "<table border=\"1\" class=\"dataframe\">\n",
       "  <thead>\n",
       "    <tr style=\"text-align: right;\">\n",
       "      <th></th>\n",
       "      <th>model</th>\n",
       "      <th>metric</th>\n",
       "      <th>value</th>\n",
       "    </tr>\n",
       "  </thead>\n",
       "  <tbody>\n",
       "    <tr>\n",
       "      <th>0</th>\n",
       "      <td>TVEC</td>\n",
       "      <td>test_score</td>\n",
       "      <td>0.821689</td>\n",
       "    </tr>\n",
       "    <tr>\n",
       "      <th>1</th>\n",
       "      <td>TVEC</td>\n",
       "      <td>sensitivity</td>\n",
       "      <td>0.893750</td>\n",
       "    </tr>\n",
       "    <tr>\n",
       "      <th>2</th>\n",
       "      <td>TVEC</td>\n",
       "      <td>f1_score</td>\n",
       "      <td>0.833819</td>\n",
       "    </tr>\n",
       "    <tr>\n",
       "      <th>3</th>\n",
       "      <td>BAG</td>\n",
       "      <td>test_score</td>\n",
       "      <td>0.823775</td>\n",
       "    </tr>\n",
       "    <tr>\n",
       "      <th>4</th>\n",
       "      <td>BAG</td>\n",
       "      <td>sensitivity</td>\n",
       "      <td>0.818750</td>\n",
       "    </tr>\n",
       "    <tr>\n",
       "      <th>5</th>\n",
       "      <td>BAG</td>\n",
       "      <td>f1_score</td>\n",
       "      <td>0.823037</td>\n",
       "    </tr>\n",
       "  </tbody>\n",
       "</table>\n",
       "</div>"
      ],
      "text/plain": [
       "  model       metric     value\n",
       "0  TVEC   test_score  0.821689\n",
       "1  TVEC  sensitivity  0.893750\n",
       "2  TVEC     f1_score  0.833819\n",
       "3   BAG   test_score  0.823775\n",
       "4   BAG  sensitivity  0.818750\n",
       "5   BAG     f1_score  0.823037"
      ]
     },
     "execution_count": 44,
     "metadata": {},
     "output_type": "execute_result"
    }
   ],
   "source": [
    "metrics = ['test_score', 'sensitivity', 'f1_score']\n",
    "\n",
    "to_df = []\n",
    "\n",
    "for model in models:\n",
    "    if model in ('BAG', 'TVEC'):\n",
    "        for metric in metrics:\n",
    "\n",
    "            dic = {\"model\": model,\n",
    "                          \"metric\": metric,\n",
    "                          \"value\": models[model]['gridsearch'][metric]\n",
    "                         }\n",
    "            to_df.append(dic)\n",
    "df_model = pd.DataFrame(to_df)\n",
    "df_model"
   ]
  },
  {
   "cell_type": "code",
   "execution_count": 45,
   "id": "607430fd",
   "metadata": {},
   "outputs": [
    {
     "data": {
      "image/png": "[encoded data removed]",
      "text/plain": [
       "<Figure size 360x216 with 1 Axes>"
      ]
     },
     "metadata": {
      "needs_background": "light"
     },
     "output_type": "display_data"
    }
   ],
   "source": [
    "fig = plt.figure(figsize=(5,3))\n",
    "ax = fig.add_subplot(111)\n",
    "sns.barplot(data=df_model, x='metric', y='value', hue='model', ax=ax, palette=[\"blue\", \"gray\"]);\n",
    "\n",
    "plt.title(\"TFIDFVectorizer Metrics - Accuracy, Sensitivity and F1 Score\", fontsize=12)\n",
    "plt.ylim(0,0.9)\n",
    "ax.spines[\"top\"].set_visible(False)  \n",
    "ax.spines[\"right\"].set_visible(False) \n",
    "\n",
    "plt.legend(loc='lower right');"
   ]
  },
  {
   "cell_type": "code",
   "execution_count": 46,
   "id": "de71c472",
   "metadata": {},
   "outputs": [
    {
     "data": {
      "text/html": [
       "<div>\n",
       "<style scoped>\n",
       "    .dataframe tbody tr th:only-of-type {\n",
       "        vertical-align: middle;\n",
       "    }\n",
       "\n",
       "    .dataframe tbody tr th {\n",
       "        vertical-align: top;\n",
       "    }\n",
       "\n",
       "    .dataframe thead th {\n",
       "        text-align: right;\n",
       "    }\n",
       "</style>\n",
       "<table border=\"1\" class=\"dataframe\">\n",
       "  <thead>\n",
       "    <tr style=\"text-align: right;\">\n",
       "      <th></th>\n",
       "      <th>model</th>\n",
       "      <th>metric</th>\n",
       "      <th>value</th>\n",
       "    </tr>\n",
       "  </thead>\n",
       "  <tbody>\n",
       "    <tr>\n",
       "      <th>0</th>\n",
       "      <td>TVEC</td>\n",
       "      <td>specificity</td>\n",
       "      <td>0.749478</td>\n",
       "    </tr>\n",
       "    <tr>\n",
       "      <th>1</th>\n",
       "      <td>TVEC</td>\n",
       "      <td>precision</td>\n",
       "      <td>0.781421</td>\n",
       "    </tr>\n",
       "    <tr>\n",
       "      <th>2</th>\n",
       "      <td>BAG</td>\n",
       "      <td>specificity</td>\n",
       "      <td>0.828810</td>\n",
       "    </tr>\n",
       "    <tr>\n",
       "      <th>3</th>\n",
       "      <td>BAG</td>\n",
       "      <td>precision</td>\n",
       "      <td>0.827368</td>\n",
       "    </tr>\n",
       "  </tbody>\n",
       "</table>\n",
       "</div>"
      ],
      "text/plain": [
       "  model       metric     value\n",
       "0  TVEC  specificity  0.749478\n",
       "1  TVEC    precision  0.781421\n",
       "2   BAG  specificity  0.828810\n",
       "3   BAG    precision  0.827368"
      ]
     },
     "execution_count": 46,
     "metadata": {},
     "output_type": "execute_result"
    }
   ],
   "source": [
    "metrics = ['specificity', 'precision']\n",
    "\n",
    "to_df = []\n",
    "\n",
    "for model in models:\n",
    "    if model in ('BAG', 'TVEC'):\n",
    "        for metric in metrics:\n",
    "\n",
    "            dic = {\"model\": model,\n",
    "                          \"metric\": metric,\n",
    "                          \"value\": models[model]['gridsearch'][metric]\n",
    "                         }\n",
    "            to_df.append(dic)\n",
    "df_model = pd.DataFrame(to_df)\n",
    "df_model"
   ]
  },
  {
   "cell_type": "code",
   "execution_count": 47,
   "id": "e63a0240",
   "metadata": {},
   "outputs": [
    {
     "data": {
      "image/png": "[encoded data removed]",
      "text/plain": [
       "<Figure size 360x216 with 1 Axes>"
      ]
     },
     "metadata": {
      "needs_background": "light"
     },
     "output_type": "display_data"
    }
   ],
   "source": [
    "fig = plt.figure(figsize=(5,3))\n",
    "ax = fig.add_subplot(111)\n",
    "sns.barplot(data=df_model, x='metric', y='value', hue='model', ax=ax, palette=[\"gray\", \"blue\"]);\n",
    "\n",
    "plt.title(\"BaggingClassifier Tops Metrics - Specificity and Precision\", fontsize=12)\n",
    "plt.ylim(0,0.9)\n",
    "ax.spines[\"top\"].set_visible(False)  \n",
    "ax.spines[\"right\"].set_visible(False) \n",
    "\n",
    "plt.legend(loc='lower right');"
   ]
  },
  {
   "cell_type": "markdown",
   "id": "206bc643",
   "metadata": {},
   "source": [
    "***Accuracy***\n",
    "- TFIDFVectorizer, Bagging Classifier at around 81-82%\n",
    "\n",
    "***Sensitivity***\n",
    "- TFIDFVectorizer: 89% of Nutrition are predicted accurately (Positive Class)\n",
    "\n",
    "***Specificity***\n",
    "- BaggingClassifier: 82% of Keto post are predicted accurately as Keto (Negative Class)\n",
    "TFIDFVectorizer \n",
    "\n",
    "***Precision***\n",
    "- BaggingClassifier: 83% \n",
    "\n",
    "***F1 Score*** Balance between Sensitivity and Specificity\n",
    "- TFIDFVectorizer: 83%"
   ]
  },
  {
   "cell_type": "markdown",
   "id": "70da3534",
   "metadata": {},
   "source": [
    "# MODEL SELECTION:\n",
    "\n",
    "For our classification project, we want to have a balance of the correctness in both  subreddits, and ***TFIDF Vectorizer*** tops 3/5 metrics including Accuracy, Sensitivity and F1 Score.\n",
    "\n",
    "I therefore conclude ***TFIDF Vectorizer*** is the best model, not just for the metrics but also in interpretability, where we can further analyse the coefficients and probability of each class. Though there is overfitting, it is still not as bad as other models.\n"
   ]
  },
  {
   "cell_type": "markdown",
   "id": "ed8c7988",
   "metadata": {},
   "source": [
    "### AUC-ROC Curve"
   ]
  },
  {
   "cell_type": "code",
   "execution_count": 48,
   "id": "3c9753c3",
   "metadata": {},
   "outputs": [
    {
     "data": {
      "image/png": "[encoded data removed]",
      "text/plain": [
       "<Figure size 720x576 with 1 Axes>"
      ]
     },
     "metadata": {
      "needs_background": "light"
     },
     "output_type": "display_data"
    }
   ],
   "source": [
    "#Visualize ROC\n",
    "fig, ax = plt.subplots(1, 1, figsize=(10,8))\n",
    "\n",
    "plot_roc_curve(models[\"BAG\"][\"gridsearch\"][\"model\"], X_test, y_test,  ax=ax, name='Bagging Classifier', color='green');\n",
    "plot_roc_curve(models[\"TVEC\"][\"gridsearch\"][\"model\"], X_test, y_test,  ax=ax, name='TVEC & LogisticRegression', color='blue');\n",
    "plot_roc_curve(models[\"RF\"][\"gridsearch\"][\"model\"], X_test, y_test,  ax=ax, name='Random Forest', color='gray');\n",
    "plot_roc_curve(models[\"GB\"][\"gridsearch\"][\"model\"], X_test, y_test,  ax=ax, name='Gradient Boosting', color='gray');\n",
    "\n",
    "plt.title('Top 4 Model (AUC-ROC)')\n",
    "ax.spines[\"top\"].set_visible(False)  \n",
    "ax.spines[\"right\"].set_visible(False) \n",
    "\n"
   ]
  },
  {
   "cell_type": "markdown",
   "id": "03cf5d40",
   "metadata": {},
   "source": [
    "## POST MODEL ANALYSIS"
   ]
  },
  {
   "cell_type": "markdown",
   "id": "e20db4b4",
   "metadata": {},
   "source": [
    "### Distribution of True Value (Y value) and the Prediction (probability)"
   ]
  },
  {
   "cell_type": "code",
   "execution_count": 49,
   "id": "c1413275",
   "metadata": {},
   "outputs": [],
   "source": [
    "bg = models[\"BAG\"][\"gridsearch\"][\"model\"]"
   ]
  },
  {
   "cell_type": "code",
   "execution_count": 50,
   "id": "d7674cf7",
   "metadata": {},
   "outputs": [
    {
     "data": {
      "text/html": [
       "<div>\n",
       "<style scoped>\n",
       "    .dataframe tbody tr th:only-of-type {\n",
       "        vertical-align: middle;\n",
       "    }\n",
       "\n",
       "    .dataframe tbody tr th {\n",
       "        vertical-align: top;\n",
       "    }\n",
       "\n",
       "    .dataframe thead th {\n",
       "        text-align: right;\n",
       "    }\n",
       "</style>\n",
       "<table border=\"1\" class=\"dataframe\">\n",
       "  <thead>\n",
       "    <tr style=\"text-align: right;\">\n",
       "      <th></th>\n",
       "      <th>true_values</th>\n",
       "      <th>pred_probs</th>\n",
       "    </tr>\n",
       "  </thead>\n",
       "  <tbody>\n",
       "    <tr>\n",
       "      <th>642</th>\n",
       "      <td>0</td>\n",
       "      <td>0.415310</td>\n",
       "    </tr>\n",
       "    <tr>\n",
       "      <th>2015</th>\n",
       "      <td>1</td>\n",
       "      <td>0.573416</td>\n",
       "    </tr>\n",
       "    <tr>\n",
       "      <th>1725</th>\n",
       "      <td>0</td>\n",
       "      <td>0.335987</td>\n",
       "    </tr>\n",
       "    <tr>\n",
       "      <th>1885</th>\n",
       "      <td>0</td>\n",
       "      <td>0.404536</td>\n",
       "    </tr>\n",
       "    <tr>\n",
       "      <th>3639</th>\n",
       "      <td>1</td>\n",
       "      <td>0.591529</td>\n",
       "    </tr>\n",
       "  </tbody>\n",
       "</table>\n",
       "</div>"
      ],
      "text/plain": [
       "      true_values  pred_probs\n",
       "642             0    0.415310\n",
       "2015            1    0.573416\n",
       "1725            0    0.335987\n",
       "1885            0    0.404536\n",
       "3639            1    0.591529"
      ]
     },
     "execution_count": 50,
     "metadata": {},
     "output_type": "execute_result"
    }
   ],
   "source": [
    "pred_bg = pd.DataFrame({'true_values': y_test,\n",
    "                        'pred_probs': bg.predict_proba(X_test)[:,1]})\n",
    "\n",
    "pred_bg.head()"
   ]
  },
  {
   "cell_type": "code",
   "execution_count": 51,
   "id": "e3a169ad",
   "metadata": {},
   "outputs": [
    {
     "data": {
      "image/png": "[encoded data removed]",
      "text/plain": [
       "<Figure size 576x360 with 1 Axes>"
      ]
     },
     "metadata": {
      "needs_background": "light"
     },
     "output_type": "display_data"
    }
   ],
   "source": [
    "plt.figure(figsize = (8, 5))\n",
    "\n",
    "# plot distributions of predicted probabilities by actual values\n",
    "for group in pred_bg.groupby('true_values'):\n",
    "    sns.distplot(group[1], kde = False, bins = 20, label = f'Actual Outcome = {group[0]}')\n",
    "\n",
    "plt.title(\"Bagging Classifier MODEL\")\n",
    "plt.xlabel('Predicted Probability that Outcome = 1');"
   ]
  },
  {
   "cell_type": "code",
   "execution_count": 52,
   "id": "a159e03d",
   "metadata": {},
   "outputs": [],
   "source": [
    "tvec = models[\"TVEC\"][\"gridsearch\"][\"model\"]"
   ]
  },
  {
   "cell_type": "code",
   "execution_count": 53,
   "id": "7b40fbd5",
   "metadata": {},
   "outputs": [
    {
     "data": {
      "text/html": [
       "<div>\n",
       "<style scoped>\n",
       "    .dataframe tbody tr th:only-of-type {\n",
       "        vertical-align: middle;\n",
       "    }\n",
       "\n",
       "    .dataframe tbody tr th {\n",
       "        vertical-align: top;\n",
       "    }\n",
       "\n",
       "    .dataframe thead th {\n",
       "        text-align: right;\n",
       "    }\n",
       "</style>\n",
       "<table border=\"1\" class=\"dataframe\">\n",
       "  <thead>\n",
       "    <tr style=\"text-align: right;\">\n",
       "      <th></th>\n",
       "      <th>true_values</th>\n",
       "      <th>pred_probs</th>\n",
       "    </tr>\n",
       "  </thead>\n",
       "  <tbody>\n",
       "    <tr>\n",
       "      <th>642</th>\n",
       "      <td>0</td>\n",
       "      <td>0.465667</td>\n",
       "    </tr>\n",
       "    <tr>\n",
       "      <th>2015</th>\n",
       "      <td>1</td>\n",
       "      <td>0.649754</td>\n",
       "    </tr>\n",
       "    <tr>\n",
       "      <th>1725</th>\n",
       "      <td>0</td>\n",
       "      <td>0.279710</td>\n",
       "    </tr>\n",
       "    <tr>\n",
       "      <th>1885</th>\n",
       "      <td>0</td>\n",
       "      <td>0.433879</td>\n",
       "    </tr>\n",
       "    <tr>\n",
       "      <th>3639</th>\n",
       "      <td>1</td>\n",
       "      <td>0.718047</td>\n",
       "    </tr>\n",
       "  </tbody>\n",
       "</table>\n",
       "</div>"
      ],
      "text/plain": [
       "      true_values  pred_probs\n",
       "642             0    0.465667\n",
       "2015            1    0.649754\n",
       "1725            0    0.279710\n",
       "1885            0    0.433879\n",
       "3639            1    0.718047"
      ]
     },
     "execution_count": 53,
     "metadata": {},
     "output_type": "execute_result"
    }
   ],
   "source": [
    "pred_tv = pd.DataFrame({'true_values': y_test,\n",
    "                        'pred_probs': tvec.predict_proba(X_test)[:,1]})\n",
    "\n",
    "pred_tv.head()"
   ]
  },
  {
   "cell_type": "code",
   "execution_count": 54,
   "id": "71cce2ee",
   "metadata": {},
   "outputs": [
    {
     "data": {
      "text/plain": [
       "Text(0.5, 1.0, 'TFIDF Vectorizer MODEL')"
      ]
     },
     "execution_count": 54,
     "metadata": {},
     "output_type": "execute_result"
    },
    {
     "data": {
      "image/png": "[encoded data removed]",
      "text/plain": [
       "<Figure size 576x360 with 1 Axes>"
      ]
     },
     "metadata": {
      "needs_background": "light"
     },
     "output_type": "display_data"
    }
   ],
   "source": [
    "plt.figure(figsize = (8, 5))\n",
    "\n",
    "# plot distributions of predicted probabilities by actual values\n",
    "for group in pred_tv.groupby('true_values'):\n",
    "    sns.distplot(group[1], kde = False, bins = 20, label = f'Actual Outcome = {group[0]}')\n",
    "\n",
    "plt.xlabel('Predicted Probability that Outcome = 1')\n",
    "plt.title(\"TFIDF Vectorizer MODEL\")\n"
   ]
  },
  {
   "cell_type": "markdown",
   "id": "599e426e",
   "metadata": {},
   "source": [
    "### Deep dive in misclassified posts"
   ]
  },
  {
   "cell_type": "code",
   "execution_count": 55,
   "id": "616ce73b",
   "metadata": {},
   "outputs": [],
   "source": [
    "#let's build a dataframe to look closer of our original data including the model's prediction\n",
    "predictions = pd.DataFrame(tvec.predict_proba(X))\n",
    "predictions.rename(columns={0: 'Keto', 1: 'Nutrition'}, inplace=True)\n",
    "predictions['title'] = df_subr['title']\n",
    "\n",
    "#our actual label\n",
    "predictions['actual'] = df_subr['is_nutrition']\n",
    "\n",
    "#the model's prediction\n",
    "predictions['predict'] = tvec.predict(X)\n"
   ]
  },
  {
   "cell_type": "code",
   "execution_count": 56,
   "id": "1b5b99b4",
   "metadata": {},
   "outputs": [
    {
     "data": {
      "text/plain": [
       "(396, 5)"
      ]
     },
     "execution_count": 56,
     "metadata": {},
     "output_type": "execute_result"
    }
   ],
   "source": [
    "#get all misclassified post\n",
    "misclass_preds = predictions[ (predictions['actual']!= predictions['predict']) ]\n",
    "misclass_preds.shape"
   ]
  },
  {
   "cell_type": "code",
   "execution_count": 57,
   "id": "2d71e9ed",
   "metadata": {},
   "outputs": [
    {
     "data": {
      "text/html": [
       "<div>\n",
       "<style scoped>\n",
       "    .dataframe tbody tr th:only-of-type {\n",
       "        vertical-align: middle;\n",
       "    }\n",
       "\n",
       "    .dataframe tbody tr th {\n",
       "        vertical-align: top;\n",
       "    }\n",
       "\n",
       "    .dataframe thead th {\n",
       "        text-align: right;\n",
       "    }\n",
       "</style>\n",
       "<table border=\"1\" class=\"dataframe\">\n",
       "  <thead>\n",
       "    <tr style=\"text-align: right;\">\n",
       "      <th></th>\n",
       "      <th>Keto</th>\n",
       "      <th>Nutrition</th>\n",
       "      <th>title</th>\n",
       "      <th>actual</th>\n",
       "      <th>predict</th>\n",
       "    </tr>\n",
       "  </thead>\n",
       "  <tbody>\n",
       "    <tr>\n",
       "      <th>0</th>\n",
       "      <td>0.483562</td>\n",
       "      <td>0.516438</td>\n",
       "      <td>Are the bhb supplement pills worth getting or are they bs?</td>\n",
       "      <td>0</td>\n",
       "      <td>1</td>\n",
       "    </tr>\n",
       "    <tr>\n",
       "      <th>4</th>\n",
       "      <td>0.389541</td>\n",
       "      <td>0.610459</td>\n",
       "      <td>Tomorrow is the big day</td>\n",
       "      <td>0</td>\n",
       "      <td>1</td>\n",
       "    </tr>\n",
       "    <tr>\n",
       "      <th>6</th>\n",
       "      <td>0.470244</td>\n",
       "      <td>0.529756</td>\n",
       "      <td>Need help with good</td>\n",
       "      <td>0</td>\n",
       "      <td>1</td>\n",
       "    </tr>\n",
       "    <tr>\n",
       "      <th>10</th>\n",
       "      <td>0.462222</td>\n",
       "      <td>0.537778</td>\n",
       "      <td>making 2022 my bitch lol</td>\n",
       "      <td>0</td>\n",
       "      <td>1</td>\n",
       "    </tr>\n",
       "    <tr>\n",
       "      <th>23</th>\n",
       "      <td>0.404006</td>\n",
       "      <td>0.595994</td>\n",
       "      <td>Cooking for others</td>\n",
       "      <td>0</td>\n",
       "      <td>1</td>\n",
       "    </tr>\n",
       "  </tbody>\n",
       "</table>\n",
       "</div>"
      ],
      "text/plain": [
       "        Keto  Nutrition  \\\n",
       "0   0.483562   0.516438   \n",
       "4   0.389541   0.610459   \n",
       "6   0.470244   0.529756   \n",
       "10  0.462222   0.537778   \n",
       "23  0.404006   0.595994   \n",
       "\n",
       "                                                         title  actual  \\\n",
       "0   Are the bhb supplement pills worth getting or are they bs?       0   \n",
       "4                                      Tomorrow is the big day       0   \n",
       "6                                          Need help with good       0   \n",
       "10                                    making 2022 my bitch lol       0   \n",
       "23                                          Cooking for others       0   \n",
       "\n",
       "    predict  \n",
       "0         1  \n",
       "4         1  \n",
       "6         1  \n",
       "10        1  \n",
       "23        1  "
      ]
     },
     "execution_count": 57,
     "metadata": {},
     "output_type": "execute_result"
    }
   ],
   "source": [
    "misclass_preds.head()"
   ]
  },
  {
   "cell_type": "markdown",
   "id": "efdaa8b6",
   "metadata": {},
   "source": [
    "####  False Negative -- posted in \"Nutrition\" but model wrongly predicted as \"Keto\""
   ]
  },
  {
   "cell_type": "code",
   "execution_count": 58,
   "id": "df8206ed",
   "metadata": {
    "scrolled": true
   },
   "outputs": [
    {
     "data": {
      "text/html": [
       "<div>\n",
       "<style scoped>\n",
       "    .dataframe tbody tr th:only-of-type {\n",
       "        vertical-align: middle;\n",
       "    }\n",
       "\n",
       "    .dataframe tbody tr th {\n",
       "        vertical-align: top;\n",
       "    }\n",
       "\n",
       "    .dataframe thead th {\n",
       "        text-align: right;\n",
       "    }\n",
       "</style>\n",
       "<table border=\"1\" class=\"dataframe\">\n",
       "  <thead>\n",
       "    <tr style=\"text-align: right;\">\n",
       "      <th></th>\n",
       "      <th>Keto</th>\n",
       "      <th>Nutrition</th>\n",
       "      <th>title</th>\n",
       "      <th>actual</th>\n",
       "      <th>predict</th>\n",
       "    </tr>\n",
       "  </thead>\n",
       "  <tbody>\n",
       "    <tr>\n",
       "      <th>2492</th>\n",
       "      <td>0.848798</td>\n",
       "      <td>0.151202</td>\n",
       "      <td>FREE KETO COOKBOOK</td>\n",
       "      <td>Nutrition</td>\n",
       "      <td>Keto</td>\n",
       "    </tr>\n",
       "    <tr>\n",
       "      <th>2915</th>\n",
       "      <td>0.885272</td>\n",
       "      <td>0.114728</td>\n",
       "      <td>Do keto diet work?</td>\n",
       "      <td>Nutrition</td>\n",
       "      <td>Keto</td>\n",
       "    </tr>\n",
       "    <tr>\n",
       "      <th>3031</th>\n",
       "      <td>0.814410</td>\n",
       "      <td>0.185590</td>\n",
       "      <td>Best Keto Plan recipes</td>\n",
       "      <td>Nutrition</td>\n",
       "      <td>Keto</td>\n",
       "    </tr>\n",
       "  </tbody>\n",
       "</table>\n",
       "</div>"
      ],
      "text/plain": [
       "          Keto  Nutrition                   title     actual predict\n",
       "2492  0.848798   0.151202      FREE KETO COOKBOOK  Nutrition    Keto\n",
       "2915  0.885272   0.114728      Do keto diet work?  Nutrition    Keto\n",
       "3031  0.814410   0.185590  Best Keto Plan recipes  Nutrition    Keto"
      ]
     },
     "execution_count": 58,
     "metadata": {},
     "output_type": "execute_result"
    }
   ],
   "source": [
    "#let's got some samples with over 80% probability\n",
    "false_neg = misclass_preds[(misclass_preds['Keto'] > 0.80) & (misclass_preds['actual'] == 1)]\n",
    "\n",
    "false_neg['actual'] = false_neg['actual'].map(lambda x: 'Nutrition' if x==1 else 'Keto')\n",
    "false_neg['predict'] = false_neg['predict'].map(lambda x: 'Nutrition' if x==1 else 'Keto')\n",
    "\n",
    "false_neg"
   ]
  },
  {
   "cell_type": "markdown",
   "id": "da7eff4f",
   "metadata": {},
   "source": [
    "***I could understand the wrong prediction, the \"keto\" is all over the title, and probably the reason it was predicted as negative class***"
   ]
  },
  {
   "cell_type": "markdown",
   "id": "a952d99f",
   "metadata": {},
   "source": [
    "####  False Positives -- posted in \"Nutrition\" but model wrongly predicted as \"Keto\""
   ]
  },
  {
   "cell_type": "code",
   "execution_count": 59,
   "id": "9dff4c4e",
   "metadata": {
    "scrolled": true
   },
   "outputs": [
    {
     "data": {
      "text/html": [
       "<div>\n",
       "<style scoped>\n",
       "    .dataframe tbody tr th:only-of-type {\n",
       "        vertical-align: middle;\n",
       "    }\n",
       "\n",
       "    .dataframe tbody tr th {\n",
       "        vertical-align: top;\n",
       "    }\n",
       "\n",
       "    .dataframe thead th {\n",
       "        text-align: right;\n",
       "    }\n",
       "</style>\n",
       "<table border=\"1\" class=\"dataframe\">\n",
       "  <thead>\n",
       "    <tr style=\"text-align: right;\">\n",
       "      <th></th>\n",
       "      <th>Keto</th>\n",
       "      <th>Nutrition</th>\n",
       "      <th>title</th>\n",
       "      <th>actual</th>\n",
       "      <th>predict</th>\n",
       "    </tr>\n",
       "  </thead>\n",
       "  <tbody>\n",
       "    <tr>\n",
       "      <th>301</th>\n",
       "      <td>0.115445</td>\n",
       "      <td>0.884555</td>\n",
       "      <td>Vitamin c</td>\n",
       "      <td>Keto</td>\n",
       "      <td>Nutrition</td>\n",
       "    </tr>\n",
       "    <tr>\n",
       "      <th>368</th>\n",
       "      <td>0.177438</td>\n",
       "      <td>0.822562</td>\n",
       "      <td>Protein powders?</td>\n",
       "      <td>Keto</td>\n",
       "      <td>Nutrition</td>\n",
       "    </tr>\n",
       "    <tr>\n",
       "      <th>418</th>\n",
       "      <td>0.140506</td>\n",
       "      <td>0.859494</td>\n",
       "      <td>Inaccurate nutrition facts</td>\n",
       "      <td>Keto</td>\n",
       "      <td>Nutrition</td>\n",
       "    </tr>\n",
       "    <tr>\n",
       "      <th>684</th>\n",
       "      <td>0.076235</td>\n",
       "      <td>0.923765</td>\n",
       "      <td>Great Value chia seeds nutritional info vs other sources of nutritional info</td>\n",
       "      <td>Keto</td>\n",
       "      <td>Nutrition</td>\n",
       "    </tr>\n",
       "    <tr>\n",
       "      <th>685</th>\n",
       "      <td>0.135831</td>\n",
       "      <td>0.864169</td>\n",
       "      <td>For the purpose of blood sugar/insulin regulation, how important is it to eat protein paired with fat/fiber?</td>\n",
       "      <td>Keto</td>\n",
       "      <td>Nutrition</td>\n",
       "    </tr>\n",
       "    <tr>\n",
       "      <th>1266</th>\n",
       "      <td>0.184755</td>\n",
       "      <td>0.815245</td>\n",
       "      <td>Floralite is a dietary supplement containing units of pure, alive and active microbes designed to nourish your gut, making you lose fat incredibly fast.</td>\n",
       "      <td>Keto</td>\n",
       "      <td>Nutrition</td>\n",
       "    </tr>\n",
       "    <tr>\n",
       "      <th>1366</th>\n",
       "      <td>0.160747</td>\n",
       "      <td>0.839253</td>\n",
       "      <td>Wicked Protein</td>\n",
       "      <td>Keto</td>\n",
       "      <td>Nutrition</td>\n",
       "    </tr>\n",
       "    <tr>\n",
       "      <th>1614</th>\n",
       "      <td>0.197915</td>\n",
       "      <td>0.802085</td>\n",
       "      <td>eat healthy</td>\n",
       "      <td>Keto</td>\n",
       "      <td>Nutrition</td>\n",
       "    </tr>\n",
       "    <tr>\n",
       "      <th>1695</th>\n",
       "      <td>0.170293</td>\n",
       "      <td>0.829707</td>\n",
       "      <td>Vitamin Supplements</td>\n",
       "      <td>Keto</td>\n",
       "      <td>Nutrition</td>\n",
       "    </tr>\n",
       "  </tbody>\n",
       "</table>\n",
       "</div>"
      ],
      "text/plain": [
       "          Keto  Nutrition  \\\n",
       "301   0.115445   0.884555   \n",
       "368   0.177438   0.822562   \n",
       "418   0.140506   0.859494   \n",
       "684   0.076235   0.923765   \n",
       "685   0.135831   0.864169   \n",
       "1266  0.184755   0.815245   \n",
       "1366  0.160747   0.839253   \n",
       "1614  0.197915   0.802085   \n",
       "1695  0.170293   0.829707   \n",
       "\n",
       "                                                                                                                                                         title  \\\n",
       "301                                                                                                                                                  Vitamin c   \n",
       "368                                                                                                                                           Protein powders?   \n",
       "418                                                                                                                                 Inaccurate nutrition facts   \n",
       "684                                                                               Great Value chia seeds nutritional info vs other sources of nutritional info   \n",
       "685                                               For the purpose of blood sugar/insulin regulation, how important is it to eat protein paired with fat/fiber?   \n",
       "1266  Floralite is a dietary supplement containing units of pure, alive and active microbes designed to nourish your gut, making you lose fat incredibly fast.   \n",
       "1366                                                                                                                                            Wicked Protein   \n",
       "1614                                                                                                                                               eat healthy   \n",
       "1695                                                                                                                                       Vitamin Supplements   \n",
       "\n",
       "     actual    predict  \n",
       "301    Keto  Nutrition  \n",
       "368    Keto  Nutrition  \n",
       "418    Keto  Nutrition  \n",
       "684    Keto  Nutrition  \n",
       "685    Keto  Nutrition  \n",
       "1266   Keto  Nutrition  \n",
       "1366   Keto  Nutrition  \n",
       "1614   Keto  Nutrition  \n",
       "1695   Keto  Nutrition  "
      ]
     },
     "execution_count": 59,
     "metadata": {},
     "output_type": "execute_result"
    }
   ],
   "source": [
    "#lets get some sample data\n",
    "false_pos = misclass_preds[(misclass_preds['Nutrition'] > 0.80) & (misclass_preds['actual'] == 0)]\n",
    "\n",
    "false_pos['actual'] = false_pos['actual'].map(lambda x: 'Nutrition' if x==1 else 'Keto')\n",
    "false_pos['predict'] = false_pos['predict'].map(lambda x: 'Nutrition' if x==1 else 'Keto')\n",
    "\n",
    "false_pos"
   ]
  },
  {
   "cell_type": "markdown",
   "id": "8b341842",
   "metadata": {},
   "source": [
    "#### 'Nutrients, Vitamins, Protein' are key words for Nutrition, so they are predicted as Nutrition though they posted under Keto subreddits"
   ]
  },
  {
   "cell_type": "markdown",
   "id": "30b0d8b4",
   "metadata": {},
   "source": [
    "### Coef_\n",
    "\n",
    "Bagging doesn't have coef so we will use TVEC. This is one of the trade-off for using more complex models, the interpretability."
   ]
  },
  {
   "cell_type": "code",
   "execution_count": 60,
   "id": "d15b613c",
   "metadata": {},
   "outputs": [],
   "source": [
    "#we will use the model for the TFIDFVecotizer to get the coefficients related to Nutrition and Keto\n",
    "coef = pd.DataFrame(models[\"TVEC\"][\"gridsearch\"][\"model\"].best_estimator_.steps[1][1].coef_).T\n",
    "coef.columns = ['coef']\n",
    "coef['ngram'] = models[\"TVEC\"][\"gridsearch\"][\"model\"].best_estimator_.steps[0][1].get_feature_names()\n",
    "coef = coef[['ngram','coef']]\n",
    "coef = coef.sort_values('coef', ascending=False)"
   ]
  },
  {
   "cell_type": "code",
   "execution_count": 61,
   "id": "aefbe73f",
   "metadata": {},
   "outputs": [],
   "source": [
    "top_nutrition_coef = coef.head(15).reset_index(drop=True)\n",
    "top_keto_coef = coef.tail(15).sort_values(by='coef', ascending=False).reset_index(drop=True)"
   ]
  },
  {
   "cell_type": "code",
   "execution_count": 62,
   "id": "51aad990",
   "metadata": {},
   "outputs": [
    {
     "data": {
      "image/png": "[encoded data removed]",
      "text/plain": [
       "<Figure size 576x360 with 1 Axes>"
      ]
     },
     "metadata": {
      "needs_background": "light"
     },
     "output_type": "display_data"
    }
   ],
   "source": [
    "fig = plt.figure(figsize=(8, 5))\n",
    "ax = fig.add_subplot(111)\n",
    "\n",
    "sns.barplot(data=top_nutrition_coef, x='coef', y='ngram', palette='Greens', ax=ax);\n",
    "\n",
    "ax.set_title(\"Top 15 Ngrams Correlated with Nutrition\", fontsize =12)\n",
    "ax.set_ylabel('nutrition - word(s)',fontsize=10)\n",
    "ax.spines[\"top\"].set_visible(False)  \n",
    "ax.spines[\"right\"].set_visible(False) \n",
    "\n",
    "plt.show()"
   ]
  },
  {
   "cell_type": "code",
   "execution_count": 63,
   "id": "e479075b",
   "metadata": {},
   "outputs": [
    {
     "data": {
      "image/png": "[encoded data removed]",
      "text/plain": [
       "<Figure size 576x360 with 1 Axes>"
      ]
     },
     "metadata": {
      "needs_background": "light"
     },
     "output_type": "display_data"
    }
   ],
   "source": [
    "\n",
    "fig = plt.figure(figsize=(8, 5))\n",
    "ax = fig.add_subplot(111)\n",
    "\n",
    "sns.barplot(data=top_keto_coef, x=abs(top_keto_coef['coef']), y='ngram', palette='Oranges', ax=ax);\n",
    "\n",
    "ax.set_title(\"Top 15 Ngrams Correlated with Keto\", fontsize =12)\n",
    "ax.set_ylabel('keto - word(s)',fontsize=10)\n",
    "ax.spines[\"top\"].set_visible(False)  \n",
    "ax.spines[\"right\"].set_visible(False) \n",
    "\n",
    "plt.show()"
   ]
  },
  {
   "cell_type": "markdown",
   "id": "1e75e118",
   "metadata": {},
   "source": [
    "# Summary:\n",
    "\n",
    "***To answer our Business Problem: Yes, we have created models and selected the best model that can classify posts from two different subreddits based on their title with 82% Accuracy.***\n",
    "     \n",
    "- We selected ***TFIDF Vecotirizer*** as our best model amongst all models for this classification project, as it is highest not just in Accuracy but also in F1-Score, as we want to balance Sensitivity and Specificity. It is also fast  and easy to build with consistent result compared to ensemble methods like Bagging where data is randomly selected. In terms of interpretability, we can also look at the coefficients to validate the words that have highest correlation to wach subreddits. \n",
    "     \n",
    "## CHALLENGES\n",
    "- We have observed overfitting in most of the models. This limitation was not overcome by ensemble methods and probably need more tuning on the hyperparameters to achieve better results.\n",
    "\n",
    "- Time to run GridSearch using hyperparameters.  Boosting is slowest amongst all models, as it builds the model sequentially instead of parallel as Random Forest and Bagging, so tuning the hyperparameters can take longer time, 10 minutes if you minimize your hyperparameters, but can take hours if you add more depth.\n",
    "    \n",
    "    \n",
    "    "
   ]
  },
  {
   "cell_type": "markdown",
   "id": "6ddc09e9",
   "metadata": {},
   "source": [
    "# Recommendation:\n",
    "  - Tuning of hyperparameters to overcome overfitting\n",
    "  - Include other features like self-text and probably sentiment analysis score might improve our metrics.\n",
    "  - Include images or videos in our anaysis for more accurate prediction (which requires more knowledge on different ML domains)"
   ]
  },
  {
   "cell_type": "code",
   "execution_count": null,
   "id": "39819ce5",
   "metadata": {},
   "outputs": [],
   "source": []
  }
 ],
 "metadata": {
  "kernelspec": {
   "display_name": "Python 3",
   "language": "python",
   "name": "python3"
  },
  "language_info": {
   "codemirror_mode": {
    "name": "ipython",
    "version": 3
   },
   "file_extension": ".py",
   "mimetype": "text/x-python",
   "name": "python",
   "nbconvert_exporter": "python",
   "pygments_lexer": "ipython3",
   "version": "3.8.8"
  }
 },
 "nbformat": 4,
 "nbformat_minor": 5
}
