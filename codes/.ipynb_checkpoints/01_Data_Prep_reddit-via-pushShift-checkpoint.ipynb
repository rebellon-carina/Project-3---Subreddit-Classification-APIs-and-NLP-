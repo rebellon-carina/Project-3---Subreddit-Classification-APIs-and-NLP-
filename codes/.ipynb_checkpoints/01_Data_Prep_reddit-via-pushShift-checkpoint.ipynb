{
 "cells": [
  {
   "cell_type": "markdown",
   "id": "02661be6",
   "metadata": {},
   "source": [
    "# Data Preparation\n",
    "## Scraping with PushShift (Date period from Jan 2022 to Feb 15, 2022)\n",
    "\n",
    "This is very concise notebook that extracts list of subreddits and save to csv"
   ]
  },
  {
   "cell_type": "code",
   "execution_count": 3,
   "id": "b545bae7",
   "metadata": {},
   "outputs": [],
   "source": [
    "import pandas as pd\n",
    "import requests\n",
    "import json\n",
    "from datetime import datetime"
   ]
  },
  {
   "cell_type": "code",
   "execution_count": 2,
   "id": "0c6dee82",
   "metadata": {},
   "outputs": [],
   "source": [
    "#subreddit to process\n",
    "#it will be used as filename for saving the dataframe\n",
    "\n",
    "g_subreddit_list = [\"keto\",\"nutrition\"]"
   ]
  },
  {
   "cell_type": "code",
   "execution_count": 3,
   "id": "a2957783",
   "metadata": {},
   "outputs": [],
   "source": [
    "def get_reddit_pushshift(from_, to_, subreddit_, list_):\n",
    "    '''\n",
    "    function to retrieve post in subreddits\n",
    "    paramater from_ (start date in unix), \n",
    "              to_ (end date in unix), , \n",
    "              subreddit_ (subreddit domain)\n",
    "              list_ (master list to append post)\n",
    "    \n",
    "    return the updated list_, 0 if query returned 0 result (need to stop pulling)\n",
    "    '''\n",
    "    \n",
    "    \n",
    "    #construct the URL, default size=100\n",
    "    subreddit_url = 'https://api.pushshift.io/reddit/search/submission/?subreddit=' \\\n",
    "            +str(subreddit_)+'&size=1000&after='+str(from_)+'&before='+str(to_)\n",
    "    \n",
    "    print(\"Extracting :\", subreddit_url)\n",
    "  \n",
    "    #request/extract\n",
    "    req = requests.get(subreddit_url)\n",
    "    \n",
    "    #convert to json \n",
    "    posted_data = json.loads(req.text)\n",
    "    \n",
    "    #print(len(posted_data['data']))\n",
    "    \n",
    "    if len(posted_data['data']) == 0: #no more result\n",
    "        return (list_, 0) #return\n",
    "    \n",
    "    for post in posted_data['data']:\n",
    "        \n",
    "        selftext =''\n",
    "        \n",
    "        try:\n",
    "            selftext = post['selftext']\n",
    "        except:\n",
    "            selftext = '<notext>'\n",
    "        \n",
    "        #print(\"****post****\", post)\n",
    "        \n",
    "        post = {'created_utc': post['created_utc'],\n",
    "                'title': post['title'],\n",
    "                'selftext':selftext,\n",
    "                'is_self':post['is_self'],\n",
    "                'score':post['score'],\n",
    "                'upvote_ratio': post['upvote_ratio'],\n",
    "                'num_comments':post['num_comments'],\n",
    "                'author':post['author'],\n",
    "                'is_original_content':post['is_original_content'],\n",
    "                'media_only': post['media_only'],\n",
    "                'subreddit': post['subreddit']\n",
    "                }\n",
    "        \n",
    "        \n",
    "        list_.append(post)\n",
    "        \n",
    "    \n",
    "    return (list_,1)"
   ]
  },
  {
   "cell_type": "code",
   "execution_count": 4,
   "id": "9ba0f8de",
   "metadata": {
    "scrolled": false
   },
   "outputs": [
    {
     "name": "stdout",
     "output_type": "stream",
     "text": [
      "Extracting : https://api.pushshift.io/reddit/search/submission/?subreddit=keto&size=1000&after=1640995200&before=1645259073\n",
      "Extracting : https://api.pushshift.io/reddit/search/submission/?subreddit=keto&size=1000&after=1641148245&before=1645259073\n",
      "Extracting : https://api.pushshift.io/reddit/search/submission/?subreddit=keto&size=1000&after=1641263551&before=1645259073\n",
      "Extracting : https://api.pushshift.io/reddit/search/submission/?subreddit=keto&size=1000&after=1641391005&before=1645259073\n",
      "Extracting : https://api.pushshift.io/reddit/search/submission/?subreddit=keto&size=1000&after=1641498254&before=1645259073\n",
      "Extracting : https://api.pushshift.io/reddit/search/submission/?subreddit=keto&size=1000&after=1641661631&before=1645259073\n",
      "Extracting : https://api.pushshift.io/reddit/search/submission/?subreddit=keto&size=1000&after=1641771032&before=1645259073\n",
      "Extracting : https://api.pushshift.io/reddit/search/submission/?subreddit=keto&size=1000&after=1641890253&before=1645259073\n",
      "Extracting : https://api.pushshift.io/reddit/search/submission/?subreddit=keto&size=1000&after=1642013798&before=1645259073\n",
      "Extracting : https://api.pushshift.io/reddit/search/submission/?subreddit=keto&size=1000&after=1642149680&before=1645259073\n",
      "Extracting : https://api.pushshift.io/reddit/search/submission/?subreddit=keto&size=1000&after=1642266382&before=1645259073\n",
      "Extracting : https://api.pushshift.io/reddit/search/submission/?subreddit=keto&size=1000&after=1642407426&before=1645259073\n",
      "Extracting : https://api.pushshift.io/reddit/search/submission/?subreddit=keto&size=1000&after=1642519996&before=1645259073\n",
      "Extracting : https://api.pushshift.io/reddit/search/submission/?subreddit=keto&size=1000&after=1642653270&before=1645259073\n",
      "Extracting : https://api.pushshift.io/reddit/search/submission/?subreddit=keto&size=1000&after=1642777792&before=1645259073\n",
      "Extracting : https://api.pushshift.io/reddit/search/submission/?subreddit=keto&size=1000&after=1642894223&before=1645259073\n",
      "Extracting : https://api.pushshift.io/reddit/search/submission/?subreddit=keto&size=1000&after=1643013505&before=1645259073\n",
      "Extracting : https://api.pushshift.io/reddit/search/submission/?subreddit=keto&size=1000&after=1643140464&before=1645259073\n",
      "Extracting : https://api.pushshift.io/reddit/search/submission/?subreddit=keto&size=1000&after=1643241694&before=1645259073\n",
      "Extracting : https://api.pushshift.io/reddit/search/submission/?subreddit=keto&size=1000&after=1643380196&before=1645259073\n",
      "Shape: (2000, 11)\n",
      "Start Date : 2022-01-01 09:28:20\n",
      "End Date   : 2022-01-30 14:54:56\n",
      "Extracting : https://api.pushshift.io/reddit/search/submission/?subreddit=nutrition&size=1000&after=1640995200&before=1645259073\n",
      "Extracting : https://api.pushshift.io/reddit/search/submission/?subreddit=nutrition&size=1000&after=1641179787&before=1645259073\n",
      "Extracting : https://api.pushshift.io/reddit/search/submission/?subreddit=nutrition&size=1000&after=1641367526&before=1645259073\n",
      "Extracting : https://api.pushshift.io/reddit/search/submission/?subreddit=nutrition&size=1000&after=1641564191&before=1645259073\n",
      "Extracting : https://api.pushshift.io/reddit/search/submission/?subreddit=nutrition&size=1000&after=1641710927&before=1645259073\n",
      "Extracting : https://api.pushshift.io/reddit/search/submission/?subreddit=nutrition&size=1000&after=1641888032&before=1645259073\n",
      "Extracting : https://api.pushshift.io/reddit/search/submission/?subreddit=nutrition&size=1000&after=1642095685&before=1645259073\n",
      "Extracting : https://api.pushshift.io/reddit/search/submission/?subreddit=nutrition&size=1000&after=1642335593&before=1645259073\n",
      "Extracting : https://api.pushshift.io/reddit/search/submission/?subreddit=nutrition&size=1000&after=1642539978&before=1645259073\n",
      "Extracting : https://api.pushshift.io/reddit/search/submission/?subreddit=nutrition&size=1000&after=1642725451&before=1645259073\n",
      "Extracting : https://api.pushshift.io/reddit/search/submission/?subreddit=nutrition&size=1000&after=1642899782&before=1645259073\n",
      "Extracting : https://api.pushshift.io/reddit/search/submission/?subreddit=nutrition&size=1000&after=1643080912&before=1645259073\n",
      "Extracting : https://api.pushshift.io/reddit/search/submission/?subreddit=nutrition&size=1000&after=1643302961&before=1645259073\n",
      "Extracting : https://api.pushshift.io/reddit/search/submission/?subreddit=nutrition&size=1000&after=1643519349&before=1645259073\n",
      "Extracting : https://api.pushshift.io/reddit/search/submission/?subreddit=nutrition&size=1000&after=1643697049&before=1645259073\n",
      "Extracting : https://api.pushshift.io/reddit/search/submission/?subreddit=nutrition&size=1000&after=1643864303&before=1645259073\n",
      "Extracting : https://api.pushshift.io/reddit/search/submission/?subreddit=nutrition&size=1000&after=1644102392&before=1645259073\n",
      "Extracting : https://api.pushshift.io/reddit/search/submission/?subreddit=nutrition&size=1000&after=1644270364&before=1645259073\n",
      "Extracting : https://api.pushshift.io/reddit/search/submission/?subreddit=nutrition&size=1000&after=1644392043&before=1645259073\n",
      "Extracting : https://api.pushshift.io/reddit/search/submission/?subreddit=nutrition&size=1000&after=1644578624&before=1645259073\n",
      "Shape: (2000, 11)\n",
      "Start Date : 2022-01-01 08:04:36\n",
      "End Date   : 2022-02-14 14:12:00\n"
     ]
    }
   ],
   "source": [
    "#go through our subreddit list and save it as csv\n",
    "\n",
    "for subredx in g_subreddit_list:\n",
    "        \n",
    "    post_list = []\n",
    "    \n",
    "    ####**** Change the dates here! ****####\n",
    "    post_marker = 1640995200  #Jan 1, 2022\n",
    "    end_created_utc = 1645259073 #feb 20, 2022\n",
    "    \n",
    "    has_result = 1\n",
    "    \n",
    "    #get the first 2200 post only, our target is 2000, with estimated 10% data cleanup\n",
    "    while (len(post_list) < 2000 and has_result):\n",
    "        \n",
    "        (post_list, has_result) = get_reddit_pushshift(post_marker, end_created_utc, subredx, post_list)\n",
    "        post_marker = post_list[-1]['created_utc']\n",
    "\n",
    "    df_subr = pd.DataFrame(post_list)\n",
    "    df_subr.to_csv(f'../datasets/subr_{subredx}.csv', index=False)\n",
    "    \n",
    "    print(\"Shape:\", df_subr.shape)\n",
    "    print(\"Start Date :\", datetime.fromtimestamp(df_subr['created_utc'].min()))\n",
    "    print(\"End Date   :\", datetime.fromtimestamp(df_subr['created_utc'].max()))"
   ]
  },
  {
   "cell_type": "markdown",
   "id": "6d51f609",
   "metadata": {},
   "source": [
    "***end of code***"
   ]
  },
  {
   "cell_type": "code",
   "execution_count": 5,
   "id": "d976ea36",
   "metadata": {},
   "outputs": [
    {
     "data": {
      "text/plain": [
       "created_utc              int64\n",
       "title                   object\n",
       "selftext                object\n",
       "is_self                   bool\n",
       "score                    int64\n",
       "upvote_ratio           float64\n",
       "num_comments             int64\n",
       "author                  object\n",
       "is_original_content       bool\n",
       "media_only                bool\n",
       "subreddit               object\n",
       "dtype: object"
      ]
     },
     "execution_count": 5,
     "metadata": {},
     "output_type": "execute_result"
    }
   ],
   "source": [
    "df_subr.dtypes"
   ]
  }
 ],
 "metadata": {
  "kernelspec": {
   "display_name": "Python 3",
   "language": "python",
   "name": "python3"
  },
  "language_info": {
   "codemirror_mode": {
    "name": "ipython",
    "version": 3
   },
   "file_extension": ".py",
   "mimetype": "text/x-python",
   "name": "python",
   "nbconvert_exporter": "python",
   "pygments_lexer": "ipython3",
   "version": "3.8.8"
  }
 },
 "nbformat": 4,
 "nbformat_minor": 5
}
